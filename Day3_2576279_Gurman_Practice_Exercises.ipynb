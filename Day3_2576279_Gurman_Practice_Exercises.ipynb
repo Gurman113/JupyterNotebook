{
 "cells": [
  {
   "cell_type": "markdown",
   "id": "e15c7384",
   "metadata": {},
   "source": [
    "# 1. Write a python function that copies a file reading and writing up to 50 characters at a time."
   ]
  },
  {
   "cell_type": "code",
   "execution_count": 59,
   "id": "d29364f7",
   "metadata": {},
   "outputs": [
    {
     "name": "stdout",
     "output_type": "stream",
     "text": [
      "Executed\n"
     ]
    }
   ],
   "source": [
    "def copy_file_in_chunks(source_file_path, destination_file_path):\n",
    "    chunk_size = 50  \n",
    "    try:\n",
    "        with open(source_file_path, 'r') as source_file, open(destination_file_path, 'w') as destination_file:\n",
    "            while True:\n",
    "                chunk = source_file.read(chunk_size)\n",
    "                if not chunk:\n",
    "                    break\n",
    "                destination_file.write(chunk)\n",
    "    except FileNotFoundError:\n",
    "        print(f\"File not found: {source_file_path}\")\n",
    "    except Exception as e:\n",
    "        print(f\"An error occurred: {str(e)}\")\n",
    "\n",
    "source_file_path = 'source.txt'\n",
    "destination_file_path = 'destination.txt'\n",
    "\n",
    "copy_file_in_chunks(source_file_path, destination_file_path)\n",
    "print(\"Executed\")"
   ]
  },
  {
   "cell_type": "markdown",
   "id": "ec3050e4",
   "metadata": {},
   "source": [
    "# 2. Print all numbers present in the text file and print the number of blank spaces in that file."
   ]
  },
  {
   "cell_type": "code",
   "execution_count": 37,
   "id": "7c8c5cf5",
   "metadata": {},
   "outputs": [
    {
     "name": "stdout",
     "output_type": "stream",
     "text": [
      "Hello, Everyone! Gurman this side.\n",
      "This is a test file.\n",
      "The number blank spaces in the test file are :  9\n"
     ]
    }
   ],
   "source": [
    "with open('test.txt', 'w') as file:\n",
    "    file.write(\"Hello, Everyone! Gurman this side.\\n\")\n",
    "    file.write(\"This is a test file.\")\n",
    "\n",
    "with open('test.txt', 'r') as file:\n",
    "    file_contents = file.read()\n",
    "\n",
    "print(file_contents)\n",
    "\n",
    "file = open(\"test.txt\", \"r\")\n",
    "\n",
    "count = 0\n",
    "\n",
    "while True:\n",
    "    char = file.read(1)\n",
    "    if char.isspace():\n",
    "        count += 1\n",
    "    if not char:\n",
    "        break\n",
    "\n",
    "print(\"The number blank spaces in the test file are : \",count)"
   ]
  },
  {
   "cell_type": "markdown",
   "id": "044c452a",
   "metadata": {},
   "source": [
    "# 3. Write a function called sed that takes as arguments a pattern string, a replacement string. and two filenames; it should read the first file and write the contents into the second file (creating it if necessary). If the pattern string appears anywhere in the file, it should be replaced with the replacement string. If an error occurs while opening, reading, writing, or closing files, your program should catch the exception, print an error message, and exit."
   ]
  },
  {
   "cell_type": "code",
   "execution_count": 63,
   "id": "4c93b9f4",
   "metadata": {},
   "outputs": [
    {
     "name": "stdout",
     "output_type": "stream",
     "text": [
      "Pattern 'Gurman' replaced with 'GURMAN SINGH' successfully.\n"
     ]
    }
   ],
   "source": [
    "def sed(pattern, replacement, input_filename, output_filename):\n",
    "    try:\n",
    "        with open(input_filename, 'r') as input_file:\n",
    "            file_content = input_file.read()\n",
    "        modified_content = file_content.replace(pattern, replacement)\n",
    "        with open(output_filename, 'w') as output_file:\n",
    "            output_file.write(modified_content)\n",
    "        print(f\"Pattern '{pattern}' replaced with '{replacement}' successfully.\")\n",
    "    except FileNotFoundError:\n",
    "        print(f\"Error: The file '{input_filename}' was not found.\")\n",
    "    except Exception as e:\n",
    "        print(f\"An error occurred: {e}\")\n",
    "pattern = \"Gurman\"\n",
    "replacement = \"GURMAN SINGH\"\n",
    "input_filename = \"input.txt\"\n",
    "output_filename = \"output.txt\"\n",
    "\n",
    "sed(pattern, replacement, input_filename, output_filename)"
   ]
  },
  {
   "cell_type": "markdown",
   "id": "27a71d2a",
   "metadata": {},
   "source": [
    "# 5. Text File Search and Replace: You have a text file with a large amount of text, and you want to search for specific words or phrases and replace them with new content.\n",
    "\n",
    "a. Write Python code to search for and replace text within a text file.\n",
    "\n",
    "b. How would you handle cases where you need to perform multiple replacements in a single pass?"
   ]
  },
  {
   "cell_type": "code",
   "execution_count": 72,
   "id": "dcdc7b3d",
   "metadata": {},
   "outputs": [],
   "source": [
    "# a)\n",
    "def search_and_replace(file_path, search_str, replace_str):\n",
    "    with open(file_path, 'r') as file:\n",
    "        file_content = file.read()\n",
    "\n",
    "    modified_content = file_content.replace(search_str, replace_str)\n",
    "\n",
    "    with open(file_path, 'w') as file:\n",
    "        file.write(modified_content)\n",
    "\n",
    "input_file_path = 'new.txt'\n",
    "search_term = 'Python'\n",
    "replacement = 'Java'\n",
    "\n",
    "search_and_replace(input_file_path, search_term, replacement)"
   ]
  },
  {
   "cell_type": "code",
   "execution_count": 73,
   "id": "17cce4b1",
   "metadata": {},
   "outputs": [],
   "source": [
    "# b)\n",
    "def multiple_search_and_replace(file_path, replace_dict):\n",
    "    with open(file_path, 'r') as file:\n",
    "        file_content = file.read()\n",
    "\n",
    "    for search_str, replace_str in replace_dict.items():\n",
    "        file_content = file_content.replace(search_str, replace_str)\n",
    "\n",
    "    with open(file_path, 'w') as file:\n",
    "        file.write(file_content)\n",
    "\n",
    "input_file_path = 'new.txt'\n",
    "replacements = {\n",
    "    'dynamically': 'statically',\n",
    "    'is': 'IS',\n",
    "    'a': 'A',\n",
    "}\n",
    "\n",
    "multiple_search_and_replace(input_file_path, replacements)"
   ]
  },
  {
   "cell_type": "markdown",
   "id": "dc8a9d16",
   "metadata": {},
   "source": [
    "# 6. Write a Python script that concatenates the contents of multiple text files into a single output file. Allow the user to specify the input files and the output file."
   ]
  },
  {
   "cell_type": "code",
   "execution_count": 71,
   "id": "68b72198",
   "metadata": {},
   "outputs": [
    {
     "name": "stdout",
     "output_type": "stream",
     "text": [
      "Hello everyone!\n",
      "Currently we are on 3rd day of our python training.This is the Practice Exercise No. 6."
     ]
    }
   ],
   "source": [
    "try:\n",
    "    with open('text1.txt', 'r') as file1, open('text2.txt', 'r') as file2:\n",
    "        content1 = file1.read()\n",
    "        content2 = file2.read()\n",
    "\n",
    "    with open('concatenated.txt', 'w') as destination_file:\n",
    "        destination_file.write(content1 + content2)\n",
    "\n",
    "    with open('concatenated.txt', 'r') as destination_file:\n",
    "        concatenated_content = destination_file.read()\n",
    "        print(concatenated_content, end='') \n",
    "\n",
    "except FileNotFoundError:\n",
    "    print(\"One or more input files not found.\")\n",
    "except Exception as e:\n",
    "    print(f\"An error occurred: {str(e)}\")\n"
   ]
  },
  {
   "cell_type": "markdown",
   "id": "ec93a2f6",
   "metadata": {},
   "source": [
    "# 7. You are given a text file named input.txt containing a list of words, one word per line. Your task is to create a Python program that reads the contents of input.txt, processes the words, and writes the result to an output file named output.txt.\n",
    "\n",
    "a. The program should perform the following operations:\n",
    "\n",
    "i. Read the words from input.txt.\n",
    "\n",
    "ii. For each word in the input file, calculate the length of the word and store it in a dictionary where the word is the key, and the length is the value.\n",
    "\n",
    "iii. Write the word-length dictionary to output.txt in the following format:\n",
    "\n",
    "Word1: Length1\n",
    "\n",
    "Word2: Length2\n",
    "\n",
    "iv. Close both input and output files properly.\n",
    "\n",
    "v. Write Python code to accomplish this task. Ensure proper error handling for file operations."
   ]
  },
  {
   "cell_type": "code",
   "execution_count": 91,
   "id": "ec527aeb",
   "metadata": {},
   "outputs": [
    {
     "name": "stdout",
     "output_type": "stream",
     "text": [
      "Words read from input.txt: ['Hello!', 'My', 'name', 'is', 'Gurman', '.']\n"
     ]
    }
   ],
   "source": [
    "# i. Read the words from input.txt.\n",
    "\n",
    "input_file_name = 'input.txt'\n",
    "\n",
    "try:\n",
    "    with open(input_file_name, 'r') as input_file:\n",
    "        word_list = [line.strip() for line in input_file]\n",
    "\n",
    "    print(\"Words read from input.txt:\", word_list)\n",
    "\n",
    "except FileNotFoundError:\n",
    "    print(f\"File not found: {input_file_name}\")\n",
    "except Exception as e:\n",
    "    print(f\"An error occurred while reading: {str(e)}\")\n"
   ]
  },
  {
   "cell_type": "code",
   "execution_count": 92,
   "id": "2e2458c1",
   "metadata": {},
   "outputs": [
    {
     "name": "stdout",
     "output_type": "stream",
     "text": [
      "Word-length dictionary: {'Hello!': 6, 'My': 2, 'name': 4, 'is': 2, 'Gurman': 6, '.': 1}\n"
     ]
    }
   ],
   "source": [
    "# ii. For each word in the input file, calculate the length of the word and store it in a dictionary where the \n",
    "# word is the key, and the length is the value.\n",
    "\n",
    "word_length_dict = {word: len(word) for word in word_list}\n",
    "print(\"Word-length dictionary:\", word_length_dict)"
   ]
  },
  {
   "cell_type": "code",
   "execution_count": 88,
   "id": "e76f040b",
   "metadata": {},
   "outputs": [
    {
     "name": "stdout",
     "output_type": "stream",
     "text": [
      "Word-length dictionary saved to output.txt\n"
     ]
    }
   ],
   "source": [
    "# iii. Write the word-length dictionary to output.txt in the specified format:\n",
    "\n",
    "output_file_name = 'output.txt'\n",
    "\n",
    "try:\n",
    "    with open(output_file_name, 'w') as output_file:\n",
    "        for word, length in word_length_dict.items():\n",
    "            output_file.write(f\"{word}: {length}\\n\")\n",
    "\n",
    "    print(f\"Word-length dictionary saved to {output_file_name}\")\n",
    "\n",
    "except Exception as e:\n",
    "    print(f\"An error occurred while writing: {str(e)}\")\n"
   ]
  },
  {
   "cell_type": "code",
   "execution_count": 89,
   "id": "c39ee9ab",
   "metadata": {},
   "outputs": [
    {
     "name": "stdout",
     "output_type": "stream",
     "text": [
      "Files closed successfully.\n"
     ]
    }
   ],
   "source": [
    "# iv. Close both input and output files properly.\n",
    "\n",
    "try:\n",
    "    input_file.close()\n",
    "    output_file.close()\n",
    "    print(\"Files closed successfully.\")\n",
    "except Exception as e:\n",
    "    print(f\"An error occurred while closing files: {str(e)}\")\n"
   ]
  },
  {
   "cell_type": "code",
   "execution_count": 93,
   "id": "744b93ab",
   "metadata": {},
   "outputs": [
    {
     "name": "stdout",
     "output_type": "stream",
     "text": [
      "Word-length dictionary saved to output.txt\n"
     ]
    }
   ],
   "source": [
    "# v. Write Python code to accomplish this task. Ensure proper error handling for file operations.\n",
    "\n",
    "input_file_name = 'input.txt'\n",
    "output_file_name = 'output.txt'\n",
    "\n",
    "try:\n",
    "    with open(input_file_name, 'r') as input_file:\n",
    "        word_length_dict = {}\n",
    "        for line in input_file:\n",
    "            word = line.split('\\n')[0]\n",
    "            word_length = len(word)\n",
    "            word_length_dict[word] = word_length\n",
    "\n",
    "    with open(output_file_name, 'w') as output_file:\n",
    "        for word, length in word_length_dict.items():\n",
    "            output_file.write(f\"{word}: {length}\\n\")\n",
    "\n",
    "    print(f\"Word-length dictionary saved to {output_file_name}\")\n",
    "\n",
    "except FileNotFoundError:\n",
    "    print(f\"File not found: {input_file_name}\")\n",
    "except Exception as e:\n",
    "    print(f\"An error occurred: {str(e)}\")"
   ]
  },
  {
   "cell_type": "markdown",
   "id": "0a323bb8",
   "metadata": {},
   "source": [
    "# 8. Assume that you are developing a student gradebook system for a school. The system should allow teachers to input student grades for various subjects, store the data in files, and provide students with the ability to view their grades.\n",
    "\n",
    "Design a Python program that accomplishes the following tasks:\n",
    "\n",
    "i Teachers should be able to input grades for students in different subjects.\n",
    "\n",
    "ii. Store the student grade data in separate text files for each subject.\n",
    "\n",
    "iii. Students should be able to view their grades for each subject.\n",
    "\n",
    "iv Implement error handling for file operations, such as file not found or permission issues."
   ]
  },
  {
   "cell_type": "code",
   "execution_count": 96,
   "id": "030cf103",
   "metadata": {},
   "outputs": [
    {
     "name": "stdout",
     "output_type": "stream",
     "text": [
      "\n",
      "Student Gradebook System\n",
      "1. Input Grades\n",
      "2. View Grades\n",
      "3. Exit\n",
      "Enter your choice (1/2/3): 1\n",
      "Enter the subject: Python\n",
      "Enter student name: Gurman\n",
      "Enter Python grade for Gurman: A\n",
      "Grade for Gurman in Python has been recorded.\n",
      "\n",
      "Student Gradebook System\n",
      "1. Input Grades\n",
      "2. View Grades\n",
      "3. Exit\n",
      "Enter your choice (1/2/3): 2\n",
      "Enter the subject: Python\n",
      "Grades for Python:\n",
      "Gurman: A\n",
      "\n",
      "Student Gradebook System\n",
      "1. Input Grades\n",
      "2. View Grades\n",
      "3. Exit\n",
      "Enter your choice (1/2/3): 3\n",
      "******END********\n"
     ]
    }
   ],
   "source": [
    "import os\n",
    "\n",
    "# Function to input and store student grades for a subject\n",
    "def input_grades(subject):\n",
    "    try:\n",
    "        file_name = f\"{subject}.txt\"\n",
    "        with open(file_name, \"a\") as file:\n",
    "            student_name = input(\"Enter student name: \")\n",
    "            grade = input(f\"Enter {subject} grade for {student_name}: \")\n",
    "            file.write(f\"{student_name}: {grade}\\n\")\n",
    "        print(f\"Grade for {student_name} in {subject} has been recorded.\")\n",
    "    except IOError as e:\n",
    "        print(f\"Error: {e}\")\n",
    "\n",
    "# Function to view student grades for a subject\n",
    "def view_grades(subject):\n",
    "    try:\n",
    "        file_name = f\"{subject}.txt\"\n",
    "        if not os.path.exists(file_name):\n",
    "            print(f\"No grades recorded for {subject} yet.\")\n",
    "            return\n",
    "\n",
    "        with open(file_name, \"r\") as file:\n",
    "            print(f\"Grades for {subject}:\")\n",
    "            for line in file:\n",
    "                print(line.strip())\n",
    "    except IOError as e:\n",
    "        print(f\"Error: {e}\")\n",
    "\n",
    "while True:\n",
    "    print(\"\\nStudent Gradebook System\")\n",
    "    print(\"1. Input Grades\")\n",
    "    print(\"2. View Grades\")\n",
    "    print(\"3. Exit\")\n",
    "\n",
    "    choice = input(\"Enter your choice (1/2/3): \")\n",
    "\n",
    "    if choice == \"1\":\n",
    "        subject = input(\"Enter the subject: \")\n",
    "        input_grades(subject)\n",
    "    elif choice == \"2\":\n",
    "        subject = input(\"Enter the subject: \")\n",
    "        view_grades(subject)\n",
    "    elif choice == \"3\":\n",
    "        break\n",
    "    else:\n",
    "        print(\"Invalid choice. Please enter 1, 2, or 3.\")\n",
    "\n",
    "print(\"******END********\")"
   ]
  }
 ],
 "metadata": {
  "kernelspec": {
   "display_name": "Python 3 (ipykernel)",
   "language": "python",
   "name": "python3"
  },
  "language_info": {
   "codemirror_mode": {
    "name": "ipython",
    "version": 3
   },
   "file_extension": ".py",
   "mimetype": "text/x-python",
   "name": "python",
   "nbconvert_exporter": "python",
   "pygments_lexer": "ipython3",
   "version": "3.11.4"
  }
 },
 "nbformat": 4,
 "nbformat_minor": 5
}
