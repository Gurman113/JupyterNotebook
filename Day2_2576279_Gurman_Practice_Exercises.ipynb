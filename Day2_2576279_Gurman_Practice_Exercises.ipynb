{
 "cells": [
  {
   "cell_type": "markdown",
   "id": "96cc872f",
   "metadata": {},
   "source": [
    "# 1. Write a python Function to list even and odd numbers in a list."
   ]
  },
  {
   "cell_type": "code",
   "execution_count": 38,
   "id": "bd1273df",
   "metadata": {},
   "outputs": [
    {
     "name": "stdout",
     "output_type": "stream",
     "text": [
      "Even Numbers :  [2, 4, 6, 8]\n",
      "Odd Numbers :  [1, 3, 5, 7, 9]\n"
     ]
    }
   ],
   "source": [
    "even_numbers = []\n",
    "odd_numbers = []\n",
    "\n",
    "def list_even_and_odd(numbers):\n",
    "    for num in numbers:\n",
    "        if num % 2 == 0:\n",
    "            even_numbers.append(num)\n",
    "        else:\n",
    "            odd_numbers.append(num)\n",
    "\n",
    "numbers_list = [1, 2, 3, 4, 5, 6, 7, 8, 9]\n",
    "list_even_and_odd(numbers_list)\n",
    "print(\"Even Numbers : \",even_numbers)\n",
    "print(\"Odd Numbers : \", odd_numbers)"
   ]
  },
  {
   "cell_type": "markdown",
   "id": "a93b42dd",
   "metadata": {},
   "source": [
    "# 2. Write and run a Python program that asks the user to enter 8 integers (one at a time), and then prints out how many of those integers were even numbers. For example, if the user entered 19. 6, 9, 20, 13, 7, 6, and 1, then your program should print out 3 since 3 of those numbers were even."
   ]
  },
  {
   "cell_type": "code",
   "execution_count": 1,
   "id": "3c3ee5d1",
   "metadata": {},
   "outputs": [
    {
     "name": "stdout",
     "output_type": "stream",
     "text": [
      "Enter a number :5\n",
      "Enter a number :3\n",
      "Enter a number :6\n",
      "Enter a number :4\n",
      "Enter a number :77\n",
      "Enter a number :33\n",
      "Enter a number :22\n",
      "Enter a number :1\n",
      "Count of even numbers entered are : 3\n"
     ]
    }
   ],
   "source": [
    "even_count = 0\n",
    "\n",
    "for i in range(8):\n",
    "    num = int(input(\"Enter a number :\"))\n",
    "    if num%2 == 0 :\n",
    "        even_count+=1\n",
    "    \n",
    "print(\"Count of even numbers entered are :\",even_count)"
   ]
  },
  {
   "cell_type": "markdown",
   "id": "747f1cc3",
   "metadata": {},
   "source": [
    "# 3. Write a Python program where you take any positive integer n, if n is even, divide it by 2 to get n/ 2. If n is odd, multiply it by 3 and add i to obtain 3n + 1. Repeat the process until you reach 1."
   ]
  },
  {
   "cell_type": "code",
   "execution_count": 14,
   "id": "40a6a80d",
   "metadata": {},
   "outputs": [
    {
     "name": "stdout",
     "output_type": "stream",
     "text": [
      "Enter a positive integer: 44\n",
      "44 22 11 34 17 52 26 13 40 20 10 5 16 8 4 2 "
     ]
    }
   ],
   "source": [
    "def collatz_sequence(n):\n",
    "    while n != 1:\n",
    "        print(n, end=' ')\n",
    "        if n % 2 == 0:\n",
    "            n = n // 2\n",
    "        else:\n",
    "            n = 3 * n + 1\n",
    "try:\n",
    "    n = int(input(\"Enter a positive integer: \"))\n",
    "    if n <= 0:\n",
    "        print(\"Please enter a positive integer.\")\n",
    "    else:\n",
    "        collatz_sequence(n)\n",
    "except ValueError:\n",
    "    print(\"Invalid input. Please enter a positive integer.\")"
   ]
  },
  {
   "cell_type": "markdown",
   "id": "ad305422",
   "metadata": {},
   "source": [
    "# 4. Write a Python program to compute the sum of all the multiples of 3 or 5 below 500. "
   ]
  },
  {
   "cell_type": "code",
   "execution_count": 37,
   "id": "89b803ed",
   "metadata": {},
   "outputs": [
    {
     "name": "stdout",
     "output_type": "stream",
     "text": [
      "Sum of multiples of 3 or 5 below 500 : 57918\n"
     ]
    }
   ],
   "source": [
    "Sum = 0\n",
    "\n",
    "for number in range(1, 500):\n",
    "    if number % 3 == 0 or number % 5 == 0:\n",
    "        Sum += number \n",
    "\n",
    "print(\"Sum of multiples of 3 or 5 below 500 :\", Sum)"
   ]
  },
  {
   "cell_type": "markdown",
   "id": "79fd8312",
   "metadata": {},
   "source": [
    "# 5.To write a Python program to find first 'n' prime numbers from a list of given numbers."
   ]
  },
  {
   "cell_type": "code",
   "execution_count": 16,
   "id": "6ed0f7a0",
   "metadata": {},
   "outputs": [
    {
     "name": "stdout",
     "output_type": "stream",
     "text": [
      "Enter the value of n: 10\n",
      "[2, 3, 5, 7, 11, 13, 17, 19, 23, 29]\n"
     ]
    }
   ],
   "source": [
    "def is_prime(num):\n",
    "    if num <= 1:\n",
    "        return False\n",
    "    for i in range(2, int(num**0.5) + 1):\n",
    "        if num % i == 0:\n",
    "            return False\n",
    "    return True\n",
    "\n",
    "def find_n_primes(n):\n",
    "    primes = []\n",
    "    num = 2\n",
    "    while len(primes) < n:\n",
    "        if is_prime(num):\n",
    "            primes.append(num)\n",
    "        num += 1\n",
    "    return primes\n",
    "\n",
    "n = int(input(\"Enter the value of n: \"))\n",
    "print(find_n_primes(n))"
   ]
  },
  {
   "cell_type": "markdown",
   "id": "6dd40692",
   "metadata": {},
   "source": [
    "# 6. write a Python program to compute matrix multiplication."
   ]
  },
  {
   "cell_type": "code",
   "execution_count": 17,
   "id": "3285b19e",
   "metadata": {},
   "outputs": [
    {
     "name": "stdout",
     "output_type": "stream",
     "text": [
      "[114, 160, 60, 27]\n",
      "[74, 97, 73, 14]\n",
      "[119, 157, 112, 23]\n"
     ]
    }
   ],
   "source": [
    "A = [[12, 7, 3],\n",
    "     [4, 5, 6],\n",
    "     [7, 8, 9]]\n",
    "\n",
    "B = [[5, 8, 1, 2],\n",
    "     [6, 7, 3, 0], \n",
    "     [4, 5, 9, 1]]\n",
    "\n",
    "result = [[sum(a * b for a, b in zip(A_row, B_col))\n",
    "          for B_col in zip(*B)]\n",
    "              for A_row in A]\n",
    "for r in result:\n",
    "  print(r)"
   ]
  },
  {
   "cell_type": "markdown",
   "id": "27df58e6",
   "metadata": {},
   "source": [
    "# 7. Write a python Function to count the number of vowels in a string."
   ]
  },
  {
   "cell_type": "code",
   "execution_count": 18,
   "id": "86be625d",
   "metadata": {},
   "outputs": [
    {
     "name": "stdout",
     "output_type": "stream",
     "text": [
      "Enter a string: This is the Practice exercise of Python.\n",
      "Number of vowels in the string: 12\n"
     ]
    }
   ],
   "source": [
    "def count_vowels(string):\n",
    "    string = string.lower()\n",
    "    vowel_count = 0\n",
    "    vowels = set(\"aeiou\")\n",
    "    for char in string:\n",
    "        if char in vowels:\n",
    "            vowel_count += 1\n",
    "    \n",
    "    return vowel_count\n",
    "input_string = input(\"Enter a string: \")\n",
    "result = count_vowels(input_string)\n",
    "print(f\"Number of vowels in the string: {result}\")"
   ]
  },
  {
   "cell_type": "markdown",
   "id": "b7eda74c",
   "metadata": {},
   "source": [
    "# 8. Write a python Function for finding factorial for the given number using a recursive function."
   ]
  },
  {
   "cell_type": "code",
   "execution_count": 19,
   "id": "190e6883",
   "metadata": {},
   "outputs": [
    {
     "name": "stdout",
     "output_type": "stream",
     "text": [
      "The factorial of 5 is 120\n"
     ]
    }
   ],
   "source": [
    "def factorial(n):\n",
    "    if n == 0 or n == 1:\n",
    "        return 1\n",
    "    else:\n",
    "        return n * factorial(n - 1)\n",
    "number = 5  \n",
    "result = factorial(number)\n",
    "print(f\"The factorial of {number} is {result}\")"
   ]
  },
  {
   "cell_type": "markdown",
   "id": "af326d36",
   "metadata": {},
   "source": [
    "# 9. Write a python Function for generating the Fibonacci series using the function."
   ]
  },
  {
   "cell_type": "code",
   "execution_count": 20,
   "id": "0d0bf6cd",
   "metadata": {},
   "outputs": [
    {
     "name": "stdout",
     "output_type": "stream",
     "text": [
      "Fibonacci series with 10 terms: [0, 1, 1, 2, 3, 5, 8, 13, 21, 34]\n"
     ]
    }
   ],
   "source": [
    "def generate_fibonacci_series(n):\n",
    "    fibonacci_series = []\n",
    "    if n <= 0:\n",
    "        return fibonacci_series\n",
    "    elif n == 1:\n",
    "        return [0]\n",
    "    elif n == 2:\n",
    "        return [0, 1]\n",
    "    a, b = 0, 1\n",
    "    fibonacci_series.append(a)\n",
    "    fibonacci_series.append(b)\n",
    "    for _ in range(2, n):\n",
    "        next_fib = a + b\n",
    "        fibonacci_series.append(next_fib)\n",
    "        a, b = b, next_fib\n",
    "    \n",
    "    return fibonacci_series\n",
    "\n",
    "num_terms = 10 \n",
    "fib_series = generate_fibonacci_series(num_terms)\n",
    "print(f\"Fibonacci series with {num_terms} terms: {fib_series}\")"
   ]
  },
  {
   "cell_type": "markdown",
   "id": "012da359",
   "metadata": {},
   "source": [
    "# 10. Python program to display the given integer in reverse order using the function without an in-built function"
   ]
  },
  {
   "cell_type": "code",
   "execution_count": 21,
   "id": "6fc8b831",
   "metadata": {},
   "outputs": [
    {
     "name": "stdout",
     "output_type": "stream",
     "text": [
      "Original integer: 12345\n",
      "Integer in reverse order: 54321\n"
     ]
    }
   ],
   "source": [
    "def reverse_integer(num):\n",
    "    num_str = str(num)\n",
    "    reversed_str = num_str[::-1]\n",
    "    reversed_num = int(reversed_str)\n",
    "    return reversed_num\n",
    "input_num = 12345 \n",
    "reversed_num = reverse_integer(input_num)\n",
    "print(f\"Original integer: {input_num}\")\n",
    "print(f\"Integer in reverse order: {reversed_num}\")"
   ]
  },
  {
   "cell_type": "markdown",
   "id": "7868faba",
   "metadata": {},
   "source": [
    "# 11. Write a Python Function to display all integers within the range 200-300 whose sum of digits is an even number."
   ]
  },
  {
   "cell_type": "code",
   "execution_count": 26,
   "id": "e673c5b4",
   "metadata": {},
   "outputs": [
    {
     "name": "stdout",
     "output_type": "stream",
     "text": [
      "Integers in the range 200-300 with even digit sums:\n",
      "200 202 204 206 208 211 213 215 217 219 220 222 224 226 228 231 233 235 237 239 240 242 244 246 248 251 253 255 257 259 260 262 264 266 268 271 273 275 277 279 280 282 284 286 288 291 293 295 297 299 "
     ]
    }
   ],
   "source": [
    "def is_even_digit_sum(num):\n",
    "    digit_sum = sum(int(digit) for digit in str(num))\n",
    "    return digit_sum % 2 == 0\n",
    "def display_integers_with_even_digit_sum(start, end):\n",
    "    for num in range(start, end + 1):\n",
    "        if is_even_digit_sum(num):\n",
    "            print(num,end=' ')\n",
    "start_range = 200\n",
    "end_range = 300\n",
    "print(f\"Integers in the range {start_range}-{end_range} with even digit sums:\")\n",
    "display_integers_with_even_digit_sum(start_range, end_range)"
   ]
  },
  {
   "cell_type": "markdown",
   "id": "dd6d1778",
   "metadata": {},
   "source": [
    "# 12. Write a python Function to find the number of digits and sum of digits for a given integer."
   ]
  },
  {
   "cell_type": "code",
   "execution_count": 28,
   "id": "9fe0d435",
   "metadata": {},
   "outputs": [
    {
     "name": "stdout",
     "output_type": "stream",
     "text": [
      "Number of digits in 12345: 5\n",
      "Sum of digits in 12345: 15\n"
     ]
    }
   ],
   "source": [
    "def count_digits_and_sum(num):\n",
    "    num_str = str(num)\n",
    "    num_digits = len(num_str)\n",
    "    digit_sum = sum(int(digit) for digit in num_str)\n",
    "    return num_digits, digit_sum\n",
    "input_num = 12345 \n",
    "num_digits, digit_sum = count_digits_and_sum(input_num)\n",
    "print(f\"Number of digits in {input_num}: {num_digits}\")\n",
    "print(f\"Sum of digits in {input_num}: {digit_sum}\")"
   ]
  },
  {
   "cell_type": "code",
   "execution_count": null,
   "id": "d983c352",
   "metadata": {},
   "outputs": [],
   "source": []
  }
 ],
 "metadata": {
  "kernelspec": {
   "display_name": "Python 3 (ipykernel)",
   "language": "python",
   "name": "python3"
  },
  "language_info": {
   "codemirror_mode": {
    "name": "ipython",
    "version": 3
   },
   "file_extension": ".py",
   "mimetype": "text/x-python",
   "name": "python",
   "nbconvert_exporter": "python",
   "pygments_lexer": "ipython3",
   "version": "3.11.4"
  }
 },
 "nbformat": 4,
 "nbformat_minor": 5
}
