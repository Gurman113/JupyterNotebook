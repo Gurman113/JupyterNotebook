{
 "cells": [
  {
   "cell_type": "markdown",
   "id": "76334139",
   "metadata": {},
   "source": [
    "# 1. Create a 3x3x3 array with random values"
   ]
  },
  {
   "cell_type": "code",
   "execution_count": 17,
   "id": "9c3cceec",
   "metadata": {
    "scrolled": true
   },
   "outputs": [
    {
     "name": "stdout",
     "output_type": "stream",
     "text": [
      "[[[0.97885217 0.82961009 0.96322384]\n",
      "  [0.61361194 0.9505957  0.71152609]\n",
      "  [0.89100594 0.22052899 0.55275491]]\n",
      "\n",
      " [[0.77863775 0.05296896 0.4538057 ]\n",
      "  [0.61517424 0.86529204 0.69775501]\n",
      "  [0.62433172 0.12495266 0.78088089]]\n",
      "\n",
      " [[0.6329087  0.82579597 0.4240583 ]\n",
      "  [0.31165242 0.46273443 0.48161991]\n",
      "  [0.0805317  0.21061125 0.10036891]]]\n"
     ]
    }
   ],
   "source": [
    "import numpy as np\n",
    "\n",
    "random_3x3x3_array = np.random.rand(3, 3, 3)\n",
    "\n",
    "print(random_3x3x3_array)"
   ]
  },
  {
   "cell_type": "markdown",
   "id": "1b5f1ecc",
   "metadata": {},
   "source": [
    "# 2.Create a 5x5 matrix with values 1,2,3,4 just below the diagonal"
   ]
  },
  {
   "cell_type": "code",
   "execution_count": 34,
   "id": "445d244a",
   "metadata": {},
   "outputs": [
    {
     "name": "stdout",
     "output_type": "stream",
     "text": [
      "[[0 0 0 0 0]\n",
      " [1 0 0 0 0]\n",
      " [0 2 0 0 0]\n",
      " [0 0 3 0 0]\n",
      " [0 0 0 4 0]]\n"
     ]
    }
   ],
   "source": [
    "import numpy as np\n",
    "\n",
    "diagonal_values = np.array([1, 2, 3, 4])\n",
    "matrix_5x5 = np.diag(diagonal_values, k=-1)\n",
    "print(matrix_5x5)"
   ]
  },
  {
   "cell_type": "markdown",
   "id": "ce40e9c0",
   "metadata": {},
   "source": [
    "# 3.Create a 8x8 matrix and fill it with a checkerboard pattern"
   ]
  },
  {
   "cell_type": "code",
   "execution_count": 38,
   "id": "4181c3be",
   "metadata": {},
   "outputs": [
    {
     "name": "stdout",
     "output_type": "stream",
     "text": [
      "[[0 1 0 1 0 1 0 1]\n",
      " [1 0 1 0 1 0 1 0]\n",
      " [0 1 0 1 0 1 0 1]\n",
      " [1 0 1 0 1 0 1 0]\n",
      " [0 1 0 1 0 1 0 1]\n",
      " [1 0 1 0 1 0 1 0]\n",
      " [0 1 0 1 0 1 0 1]\n",
      " [1 0 1 0 1 0 1 0]]\n"
     ]
    }
   ],
   "source": [
    "import numpy as np\n",
    "\n",
    "matrix = np.zeros((8, 8), dtype=int)\n",
    "\n",
    "matrix[1::2, ::2] = 1\n",
    "matrix[::2, 1::2] = 1\n",
    "\n",
    "print(matrix)"
   ]
  },
  {
   "cell_type": "markdown",
   "id": "261190b6",
   "metadata": {},
   "source": [
    "# 4. Normalize a 5x5 random matrix"
   ]
  },
  {
   "cell_type": "code",
   "execution_count": 40,
   "id": "3bfb3183",
   "metadata": {},
   "outputs": [
    {
     "name": "stdout",
     "output_type": "stream",
     "text": [
      "[[0.79283922 0.93786996 0.21313985 0.47949678 0.        ]\n",
      " [0.26020883 0.87161009 0.25557748 0.92796598 0.2565301 ]\n",
      " [0.13060354 0.39387854 0.26506229 0.09807814 0.96001434]\n",
      " [0.91986715 0.97245932 0.70413685 0.98433187 0.58051909]\n",
      " [0.50255262 0.97471663 0.47136911 1.         0.85183633]]\n"
     ]
    }
   ],
   "source": [
    "import numpy as np\n",
    "\n",
    "random_5x5_matrix = np.random.rand(5, 5)\n",
    "normalized_matrix = (random_5x5_matrix - random_5x5_matrix.min()) / (random_5x5_matrix.max() - random_5x5_matrix.min())\n",
    "\n",
    "print(normalized_matrix)"
   ]
  },
  {
   "cell_type": "markdown",
   "id": "66cdd64c",
   "metadata": {},
   "source": [
    "# 5. How to find common values between two arrays?"
   ]
  },
  {
   "cell_type": "code",
   "execution_count": 42,
   "id": "b5a3e0a5",
   "metadata": {},
   "outputs": [
    {
     "name": "stdout",
     "output_type": "stream",
     "text": [
      "[3 4 5]\n"
     ]
    }
   ],
   "source": [
    "import numpy as np\n",
    "\n",
    "array_A = np.array([1, 2, 3, 4, 5])\n",
    "array_B = np.array([3, 4, 5, 6, 7])\n",
    "\n",
    "common_values = np.intersect1d(array_A, array_B)\n",
    "\n",
    "print(common_values)"
   ]
  },
  {
   "cell_type": "markdown",
   "id": "c65a1cef",
   "metadata": {},
   "source": [
    "# 6.How to get the dates of yesterday, today and tomorrow?"
   ]
  },
  {
   "cell_type": "code",
   "execution_count": 43,
   "id": "c81c4931",
   "metadata": {},
   "outputs": [
    {
     "name": "stdout",
     "output_type": "stream",
     "text": [
      "Yesterday: 2023-09-20\n",
      "Today: 2023-09-21\n",
      "Tomorrow: 2023-09-22\n"
     ]
    }
   ],
   "source": [
    "from datetime import datetime, timedelta\n",
    "\n",
    "today = datetime.now()\n",
    "yesterday = today - timedelta(days=1)\n",
    "tomorrow = today + timedelta(days=1)\n",
    "\n",
    "print(f\"Yesterday: {yesterday.strftime('%Y-%m-%d')}\")\n",
    "print(f\"Today: {today.strftime('%Y-%m-%d')}\")\n",
    "print(f\"Tomorrow: {tomorrow.strftime('%Y-%m-%d')}\")"
   ]
  },
  {
   "cell_type": "markdown",
   "id": "2d256a82",
   "metadata": {},
   "source": [
    "# 7. Consider two random array A and B, check if they are equal"
   ]
  },
  {
   "cell_type": "code",
   "execution_count": 47,
   "id": "50c46683",
   "metadata": {},
   "outputs": [
    {
     "name": "stdout",
     "output_type": "stream",
     "text": [
      "True\n"
     ]
    }
   ],
   "source": [
    "import numpy as np\n",
    "\n",
    "array_A = np.array([1, 2, 3, 4, 5])\n",
    "array_B = np.array([1, 2, 3, 4, 5])\n",
    "\n",
    "are_equal = np.array_equal(array_A, array_B)\n",
    "\n",
    "print(are_equal)"
   ]
  },
  {
   "cell_type": "markdown",
   "id": "8e84119e",
   "metadata": {},
   "source": [
    "# 8.Create random vector of size 10 and replace the maximum value by 0"
   ]
  },
  {
   "cell_type": "code",
   "execution_count": 18,
   "id": "b0f6145e",
   "metadata": {},
   "outputs": [
    {
     "name": "stdout",
     "output_type": "stream",
     "text": [
      "Random Vector with Maximum Value Replaced: \n",
      " [0.35437183 0.25922274 0.92427332 0.34992979 0.27238123 0.54735299\n",
      " 0.33627482 0.30338133 0.81699556 0.        ]\n"
     ]
    }
   ],
   "source": [
    "import numpy as np\n",
    "\n",
    "random_vector = np.random.rand(10)\n",
    "\n",
    "max_index = np.argmax(random_vector)\n",
    "\n",
    "random_vector[max_index] = 0\n",
    "\n",
    "print(\"Random Vector with Maximum Value Replaced: \\n\", random_vector)"
   ]
  },
  {
   "cell_type": "markdown",
   "id": "cce44fd7",
   "metadata": {},
   "source": [
    "# 9. How to print all the values of an array?"
   ]
  },
  {
   "cell_type": "code",
   "execution_count": 19,
   "id": "4b890e29",
   "metadata": {},
   "outputs": [
    {
     "name": "stdout",
     "output_type": "stream",
     "text": [
      "1\n",
      "2\n",
      "3\n",
      "4\n",
      "5\n"
     ]
    }
   ],
   "source": [
    "import numpy as np\n",
    "\n",
    "my_array = np.array([1, 2, 3, 4, 5])\n",
    "\n",
    "for value in my_array:\n",
    "    print(value)\n"
   ]
  },
  {
   "cell_type": "markdown",
   "id": "ced82096",
   "metadata": {},
   "source": [
    "# 10. Subtract the mean of each row of a matrix"
   ]
  },
  {
   "cell_type": "code",
   "execution_count": 20,
   "id": "c27fc2ee",
   "metadata": {},
   "outputs": [
    {
     "name": "stdout",
     "output_type": "stream",
     "text": [
      "Original Matrix:\n",
      "[[1 2 3]\n",
      " [4 5 6]\n",
      " [7 8 9]]\n",
      "\n",
      "Matrix with Row Means Subtracted:\n",
      "[[-1.  0.  1.]\n",
      " [-1.  0.  1.]\n",
      " [-1.  0.  1.]]\n"
     ]
    }
   ],
   "source": [
    "import numpy as np\n",
    "\n",
    "matrix = np.array([[1, 2, 3],\n",
    "                   [4, 5, 6],\n",
    "                   [7, 8, 9]])\n",
    "\n",
    "row_means = np.mean(matrix, axis=1, keepdims=True)\n",
    "\n",
    "result_matrix = matrix - row_means\n",
    "\n",
    "print(\"Original Matrix:\")\n",
    "print(matrix)\n",
    "\n",
    "print(\"\\nMatrix with Row Means Subtracted:\")\n",
    "print(result_matrix)\n"
   ]
  },
  {
   "cell_type": "markdown",
   "id": "ed70c123",
   "metadata": {},
   "source": [
    "# 11.Consider a given vector, how to add 1 to each element indexed by a second vector (be careful with repeated indices)? "
   ]
  },
  {
   "cell_type": "code",
   "execution_count": 21,
   "id": "b788075d",
   "metadata": {},
   "outputs": [
    {
     "name": "stdout",
     "output_type": "stream",
     "text": [
      "Given Vector:\n",
      "[1 3 3 5 6]\n"
     ]
    }
   ],
   "source": [
    "import numpy as np\n",
    "\n",
    "given_vector = np.array([1, 2, 3, 4, 5])\n",
    "\n",
    "indices_to_add_1 = np.array([1, 3, 3, 4])\n",
    "\n",
    "mask = np.zeros_like(given_vector, dtype=bool)\n",
    "\n",
    "mask[indices_to_add_1] = True\n",
    "\n",
    "given_vector[mask] += 1\n",
    "\n",
    "print(\"Given Vector:\")\n",
    "print(given_vector)\n"
   ]
  },
  {
   "cell_type": "markdown",
   "id": "5380602e",
   "metadata": {},
   "source": [
    "# 12.How to get the diagonal of a dot product?"
   ]
  },
  {
   "cell_type": "code",
   "execution_count": 22,
   "id": "29e0ec1b",
   "metadata": {},
   "outputs": [
    {
     "name": "stdout",
     "output_type": "stream",
     "text": [
      "\n",
      "Matrix1:\n",
      "[[1 2 3]\n",
      " [4 5 6]\n",
      " [7 8 9]]\n",
      "\n",
      "Matrix2:\n",
      "[[9 8 7]\n",
      " [6 5 4]\n",
      " [3 2 1]]\n",
      "\n",
      "Dot Product Matrix:\n",
      "[[ 30  24  18]\n",
      " [ 84  69  54]\n",
      " [138 114  90]]\n",
      "\n",
      "Diagonal of the Dot Product:\n",
      "[30 69 90]\n"
     ]
    }
   ],
   "source": [
    "import numpy as np\n",
    "\n",
    "matrix1 = np.array([[1, 2, 3],\n",
    "                    [4, 5, 6],\n",
    "                    [7, 8, 9]])\n",
    "\n",
    "matrix2 = np.array([[9, 8, 7],\n",
    "                    [6, 5, 4],\n",
    "                    [3, 2, 1]])\n",
    "\n",
    "dot_product = np.dot(matrix1, matrix2)\n",
    "\n",
    "diagonal = np.diag(dot_product)\n",
    "\n",
    "print(\"\\nMatrix1:\")\n",
    "print(matrix1)\n",
    "\n",
    "print(\"\\nMatrix2:\")\n",
    "print(matrix2)\n",
    "\n",
    "print(\"\\nDot Product Matrix:\")\n",
    "print(dot_product)\n",
    "\n",
    "print(\"\\nDiagonal of the Dot Product:\")\n",
    "print(diagonal)"
   ]
  },
  {
   "cell_type": "markdown",
   "id": "e6755373",
   "metadata": {},
   "source": [
    "# 13.How to find the most frequent value in an array?"
   ]
  },
  {
   "cell_type": "code",
   "execution_count": 23,
   "id": "e292f322",
   "metadata": {},
   "outputs": [
    {
     "name": "stdout",
     "output_type": "stream",
     "text": [
      "Array:\n",
      "[2 3 2 5 8 2 3 7 8 8 3]\n",
      "Most Frequent Value(s): [2 3 8]\n"
     ]
    }
   ],
   "source": [
    "import numpy as np\n",
    "\n",
    "arr = np.array([2, 3, 2, 5, 8, 2, 3, 7, 8, 8, 3])\n",
    "\n",
    "unique_values, counts = np.unique(arr, return_counts=True)\n",
    "\n",
    "max_count = np.max(counts)\n",
    "\n",
    "max_count_indices = np.where(counts == max_count)\n",
    "\n",
    "most_frequent_values = unique_values[max_count_indices]\n",
    "\n",
    "print(\"Array:\")\n",
    "print(arr)\n",
    "\n",
    "print(\"Most Frequent Value(s):\", most_frequent_values)"
   ]
  },
  {
   "cell_type": "markdown",
   "id": "9e3dfbbf",
   "metadata": {},
   "source": [
    "# 14.How to get the n largest value in the array."
   ]
  },
  {
   "cell_type": "code",
   "execution_count": 25,
   "id": "c3e3dd61",
   "metadata": {},
   "outputs": [
    {
     "name": "stdout",
     "output_type": "stream",
     "text": [
      "[76]\n"
     ]
    }
   ],
   "source": [
    "import heapq\n",
    "\n",
    "def get_n_largest(arr, n):\n",
    "    return heapq.nlargest(n, arr)\n",
    "\n",
    "my_array = [12, 34, 45, 9, 8, 76]\n",
    "n = 1\n",
    "n_largest_values = get_n_largest(my_array, n)\n",
    "print(n_largest_values)"
   ]
  },
  {
   "cell_type": "markdown",
   "id": "5cdba363",
   "metadata": {},
   "source": [
    "# 15.How to create a record array from a regular array."
   ]
  },
  {
   "cell_type": "code",
   "execution_count": 29,
   "id": "4e81ec95",
   "metadata": {},
   "outputs": [
    {
     "name": "stdout",
     "output_type": "stream",
     "text": [
      "First record:\n",
      "ID: 1\n",
      "Name: Alice\n",
      "Age: 25\n",
      "\n",
      "Second record:\n",
      "ID: 2\n",
      "Name: Bob\n",
      "Age: 30\n"
     ]
    }
   ],
   "source": [
    "import numpy as np\n",
    "\n",
    "regular_array = [(1, \"Alice\", 25), (2, \"Bob\", 30), (3, \"Charlie\", 22)]\n",
    "\n",
    "dtype = [('ID', int), ('Name', 'U10'), ('Age', int)]\n",
    "\n",
    "record_array = np.array(regular_array, dtype=dtype)\n",
    "\n",
    "print(\"First record:\")\n",
    "print(\"ID:\", record_array[0]['ID'])\n",
    "print(\"Name:\", record_array[0]['Name'])\n",
    "print(\"Age:\", record_array[0]['Age'])\n",
    "\n",
    "print(\"\\nSecond record:\")\n",
    "print(\"ID:\", record_array[1][0])\n",
    "print(\"Name:\", record_array[1][1])\n",
    "print(\"Age:\", record_array[1][2])"
   ]
  },
  {
   "cell_type": "markdown",
   "id": "3ee7309a",
   "metadata": {},
   "source": [
    "# 16.How to swap two rows of an array."
   ]
  },
  {
   "cell_type": "code",
   "execution_count": 30,
   "id": "fd4e7f1f",
   "metadata": {},
   "outputs": [
    {
     "name": "stdout",
     "output_type": "stream",
     "text": [
      "[[7 8 9]\n",
      " [4 5 6]\n",
      " [1 2 3]]\n"
     ]
    }
   ],
   "source": [
    "import numpy as np\n",
    "\n",
    "array = np.array([[1, 2, 3],\n",
    "                  [4, 5, 6],\n",
    "                  [7, 8, 9]])\n",
    "\n",
    "row1_index = 0\n",
    "row2_index = 2\n",
    "\n",
    "temp_row = np.copy(array[row1_index])\n",
    "array[row1_index] = array[row2_index]\n",
    "array[row2_index] = temp_row\n",
    "\n",
    "print(array)"
   ]
  },
  {
   "cell_type": "markdown",
   "id": "698d6159",
   "metadata": {},
   "source": [
    "# 17.Write python code to reshape  to the next dimenssion of numpy array."
   ]
  },
  {
   "cell_type": "code",
   "execution_count": 32,
   "id": "a8f509f6",
   "metadata": {},
   "outputs": [
    {
     "name": "stdout",
     "output_type": "stream",
     "text": [
      "Original array:\n",
      "[1 2 3 4 5 6]\n",
      "Reshaped array:\n",
      "[[1 2 3]\n",
      " [4 5 6]]\n"
     ]
    }
   ],
   "source": [
    "import numpy as np\n",
    "\n",
    "original_array = np.array([1, 2, 3, 4, 5, 6])\n",
    "\n",
    "reshaped_array = original_array.reshape((2, -1))\n",
    "\n",
    "print(\"Original array:\")\n",
    "print(original_array)\n",
    "print(\"Reshaped array:\")\n",
    "print(reshaped_array)"
   ]
  },
  {
   "cell_type": "code",
   "execution_count": null,
   "id": "8f9ff69a",
   "metadata": {},
   "outputs": [],
   "source": []
  }
 ],
 "metadata": {
  "kernelspec": {
   "display_name": "Python 3 (ipykernel)",
   "language": "python",
   "name": "python3"
  },
  "language_info": {
   "codemirror_mode": {
    "name": "ipython",
    "version": 3
   },
   "file_extension": ".py",
   "mimetype": "text/x-python",
   "name": "python",
   "nbconvert_exporter": "python",
   "pygments_lexer": "ipython3",
   "version": "3.11.4"
  }
 },
 "nbformat": 4,
 "nbformat_minor": 5
}
