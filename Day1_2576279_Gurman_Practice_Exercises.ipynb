{
 "cells": [
  {
   "cell_type": "markdown",
   "id": "cf20acc3",
   "metadata": {},
   "source": [
    "# Language Fundamentals :"
   ]
  },
  {
   "cell_type": "markdown",
   "id": "3f73dda4",
   "metadata": {},
   "source": [
    "# 1. Manipulate Using a list."
   ]
  },
  {
   "cell_type": "code",
   "execution_count": 36,
   "id": "005428d1",
   "metadata": {},
   "outputs": [],
   "source": [
    "lst=[11,\"Welcome\",33.45,\"Python\"]"
   ]
  },
  {
   "cell_type": "code",
   "execution_count": 2,
   "id": "bf57b7db",
   "metadata": {},
   "outputs": [
    {
     "data": {
      "text/plain": [
       "[11, 'Welcome', 33.45, 'Python']"
      ]
     },
     "execution_count": 2,
     "metadata": {},
     "output_type": "execute_result"
    }
   ],
   "source": [
    "lst"
   ]
  },
  {
   "cell_type": "markdown",
   "id": "c1f9f604",
   "metadata": {},
   "source": [
    "1. To add new elements to the end of the list."
   ]
  },
  {
   "cell_type": "code",
   "execution_count": 10,
   "id": "ebcc4dab",
   "metadata": {},
   "outputs": [],
   "source": [
    "lst.append(24)"
   ]
  },
  {
   "cell_type": "code",
   "execution_count": 11,
   "id": "73146b82",
   "metadata": {},
   "outputs": [
    {
     "data": {
      "text/plain": [
       "[11, 'Welcome', 33.45, 'Python', 24, 24]"
      ]
     },
     "execution_count": 11,
     "metadata": {},
     "output_type": "execute_result"
    }
   ],
   "source": [
    "lst"
   ]
  },
  {
   "cell_type": "code",
   "execution_count": 15,
   "id": "08e9d748",
   "metadata": {},
   "outputs": [],
   "source": [
    "lst2=[3,89]\n",
    "lst.extend(lst2)"
   ]
  },
  {
   "cell_type": "code",
   "execution_count": 16,
   "id": "fa640e1b",
   "metadata": {},
   "outputs": [
    {
     "data": {
      "text/plain": [
       "[11, 'Welcome', 33.45, 'Python', 24, 24, 5, 77, 3, 89]"
      ]
     },
     "execution_count": 16,
     "metadata": {},
     "output_type": "execute_result"
    }
   ],
   "source": [
    "lst"
   ]
  },
  {
   "cell_type": "markdown",
   "id": "47943630",
   "metadata": {},
   "source": [
    "2. To reverse elements in the list"
   ]
  },
  {
   "cell_type": "code",
   "execution_count": 17,
   "id": "c013ded1",
   "metadata": {},
   "outputs": [
    {
     "data": {
      "text/plain": [
       "[89, 3, 77, 5, 24, 24, 'Python', 33.45, 'Welcome', 11]"
      ]
     },
     "execution_count": 17,
     "metadata": {},
     "output_type": "execute_result"
    }
   ],
   "source": [
    "lst.reverse()\n",
    "lst"
   ]
  },
  {
   "cell_type": "markdown",
   "id": "f1999276",
   "metadata": {},
   "source": [
    "3. To display the same list of elements multiple times."
   ]
  },
  {
   "cell_type": "code",
   "execution_count": 37,
   "id": "ca7bfe01",
   "metadata": {},
   "outputs": [
    {
     "name": "stdout",
     "output_type": "stream",
     "text": [
      "[11, 'Welcome', 33.45, 'Python', 11, 'Welcome', 33.45, 'Python']\t"
     ]
    }
   ],
   "source": [
    "print(lst*2,end='\\t')"
   ]
  },
  {
   "cell_type": "markdown",
   "id": "be547bae",
   "metadata": {},
   "source": [
    "4. To concatenate two list"
   ]
  },
  {
   "cell_type": "code",
   "execution_count": 19,
   "id": "0d795103",
   "metadata": {},
   "outputs": [
    {
     "data": {
      "text/plain": [
       "[89, 3, 77, 5, 24, 24, 'Python', 33.45, 'Welcome', 11, 'Hello', 4]"
      ]
     },
     "execution_count": 19,
     "metadata": {},
     "output_type": "execute_result"
    }
   ],
   "source": [
    "lst3=[\"Hello\",4]\n",
    "concate_lists=lst+lst3\n",
    "concate_lists"
   ]
  },
  {
   "cell_type": "markdown",
   "id": "06021c1c",
   "metadata": {},
   "source": [
    "5. To sort the elements in the list in ascending order."
   ]
  },
  {
   "cell_type": "code",
   "execution_count": 22,
   "id": "563b2f91",
   "metadata": {},
   "outputs": [
    {
     "data": {
      "text/plain": [
       "[1, 22, 44, 45, 67, 88]"
      ]
     },
     "execution_count": 22,
     "metadata": {},
     "output_type": "execute_result"
    }
   ],
   "source": [
    "lst4=[45,22,88,44,67,1]\n",
    "lst4.sort()\n",
    "lst4"
   ]
  },
  {
   "cell_type": "markdown",
   "id": "9ce8f3af",
   "metadata": {},
   "source": [
    "# 2. Write a Python Program to do in the tuples."
   ]
  },
  {
   "cell_type": "code",
   "execution_count": 25,
   "id": "17ea9e53",
   "metadata": {},
   "outputs": [
    {
     "data": {
      "text/plain": [
       "(88, 22, 42, 2, 13)"
      ]
     },
     "execution_count": 25,
     "metadata": {},
     "output_type": "execute_result"
    }
   ],
   "source": [
    "tuple =(88,22,42,2,13)\n",
    "tuple"
   ]
  },
  {
   "cell_type": "markdown",
   "id": "69c8e0b5",
   "metadata": {},
   "source": [
    "1. Manipulate using tuples"
   ]
  },
  {
   "cell_type": "code",
   "execution_count": 27,
   "id": "0c5188d0",
   "metadata": {},
   "outputs": [
    {
     "data": {
      "text/plain": [
       "(88, 22, 42, 2, 13, 7, 4, 2, 44)"
      ]
     },
     "execution_count": 27,
     "metadata": {},
     "output_type": "execute_result"
    }
   ],
   "source": [
    "tuple2 = (2,44)\n",
    "tuple3 = tuple + tuple2\n",
    "tuple3"
   ]
  },
  {
   "cell_type": "markdown",
   "id": "6e1304a7",
   "metadata": {},
   "source": [
    "2. To add new elements to the end of the tuples "
   ]
  },
  {
   "cell_type": "code",
   "execution_count": 28,
   "id": "ab679a7c",
   "metadata": {},
   "outputs": [
    {
     "data": {
      "text/plain": [
       "(88, 22, 42, 2, 13, 7, 4, 99, 66)"
      ]
     },
     "execution_count": 28,
     "metadata": {},
     "output_type": "execute_result"
    }
   ],
   "source": [
    "tuple = tuple + (99,66)\n",
    "tuple"
   ]
  },
  {
   "cell_type": "markdown",
   "id": "4474384d",
   "metadata": {},
   "source": [
    "To reverse elements in the list"
   ]
  },
  {
   "cell_type": "code",
   "execution_count": 31,
   "id": "0aba07c0",
   "metadata": {},
   "outputs": [
    {
     "data": {
      "text/plain": [
       "(66, 99, 4, 7, 13, 2, 42, 22, 88)"
      ]
     },
     "execution_count": 31,
     "metadata": {},
     "output_type": "execute_result"
    }
   ],
   "source": [
    "reversed_tuple = tuple[::-1]\n",
    "reversed_tuple"
   ]
  },
  {
   "cell_type": "markdown",
   "id": "76e67956",
   "metadata": {},
   "source": [
    "To display the elements of the same tuple multiple times."
   ]
  },
  {
   "cell_type": "code",
   "execution_count": 33,
   "id": "1fa8c847",
   "metadata": {},
   "outputs": [
    {
     "data": {
      "text/plain": [
       "(88, 22, 42, 2, 13, 7, 4, 99, 66, 88, 22, 42, 2, 13, 7, 4, 99, 66)"
      ]
     },
     "execution_count": 33,
     "metadata": {},
     "output_type": "execute_result"
    }
   ],
   "source": [
    "tuple*2"
   ]
  },
  {
   "cell_type": "markdown",
   "id": "00db77a8",
   "metadata": {},
   "source": [
    "To concatenate two tuples"
   ]
  },
  {
   "cell_type": "code",
   "execution_count": 34,
   "id": "90ae3e91",
   "metadata": {},
   "outputs": [
    {
     "data": {
      "text/plain": [
       "(88, 22, 42, 2, 13, 7, 4, 99, 66, 32, 67)"
      ]
     },
     "execution_count": 34,
     "metadata": {},
     "output_type": "execute_result"
    }
   ],
   "source": [
    "tuple2 = (32,67)\n",
    "tuple3 = tuple + tuple2\n",
    "tuple3"
   ]
  },
  {
   "cell_type": "markdown",
   "id": "1a95ea13",
   "metadata": {},
   "source": [
    "To sort the elements in the list in ascending order."
   ]
  },
  {
   "cell_type": "code",
   "execution_count": 40,
   "id": "f4994973",
   "metadata": {},
   "outputs": [
    {
     "data": {
      "text/plain": [
       "[2, 4, 7, 13, 22, 42, 66, 88, 99]"
      ]
     },
     "execution_count": 40,
     "metadata": {},
     "output_type": "execute_result"
    }
   ],
   "source": [
    "sorted(tuple)"
   ]
  },
  {
   "cell_type": "markdown",
   "id": "e77ea880",
   "metadata": {},
   "source": [
    "# 3. Write a python program to implement the following using list."
   ]
  },
  {
   "cell_type": "markdown",
   "id": "91a6a39f",
   "metadata": {},
   "source": [
    "Create a list with integers (minimum 10 numbers)"
   ]
  },
  {
   "cell_type": "code",
   "execution_count": 43,
   "id": "594cefb8",
   "metadata": {},
   "outputs": [
    {
     "data": {
      "text/plain": [
       "[34, 67, 45, 2, 57, 14, 11, 83, 23, 68, 44]"
      ]
     },
     "execution_count": 43,
     "metadata": {},
     "output_type": "execute_result"
    }
   ],
   "source": [
    "my_list=[34,67,45,2,57,14,11,83,23,68,44]\n",
    "my_list"
   ]
  },
  {
   "cell_type": "markdown",
   "id": "590d142f",
   "metadata": {},
   "source": [
    "How to display the last number in the list"
   ]
  },
  {
   "cell_type": "code",
   "execution_count": 44,
   "id": "c3f8804a",
   "metadata": {},
   "outputs": [
    {
     "data": {
      "text/plain": [
       "[44]"
      ]
     },
     "execution_count": 44,
     "metadata": {},
     "output_type": "execute_result"
    }
   ],
   "source": [
    "my_list[-1::]"
   ]
  },
  {
   "cell_type": "markdown",
   "id": "bf7c3d94",
   "metadata": {},
   "source": [
    "Command for displaying the values from the list [0:4]"
   ]
  },
  {
   "cell_type": "code",
   "execution_count": 45,
   "id": "3bb119c9",
   "metadata": {},
   "outputs": [
    {
     "data": {
      "text/plain": [
       "[34, 57, 23]"
      ]
     },
     "execution_count": 45,
     "metadata": {},
     "output_type": "execute_result"
    }
   ],
   "source": [
    "my_list[0::4]"
   ]
  },
  {
   "cell_type": "markdown",
   "id": "f6e50de2",
   "metadata": {},
   "source": [
    "Command for displaying the values from the list [2:]"
   ]
  },
  {
   "cell_type": "code",
   "execution_count": 46,
   "id": "9337d090",
   "metadata": {},
   "outputs": [
    {
     "data": {
      "text/plain": [
       "[45, 2, 57, 14, 11, 83, 23, 68, 44]"
      ]
     },
     "execution_count": 46,
     "metadata": {},
     "output_type": "execute_result"
    }
   ],
   "source": [
    "my_list[2::]"
   ]
  },
  {
   "cell_type": "markdown",
   "id": "8be4a860",
   "metadata": {},
   "source": [
    "Command for displaying the values from the list [:6]"
   ]
  },
  {
   "cell_type": "code",
   "execution_count": 47,
   "id": "49a2df28",
   "metadata": {},
   "outputs": [
    {
     "data": {
      "text/plain": [
       "[34, 11]"
      ]
     },
     "execution_count": 47,
     "metadata": {},
     "output_type": "execute_result"
    }
   ],
   "source": [
    "my_list[::6]"
   ]
  },
  {
   "cell_type": "markdown",
   "id": "e48fb8a6",
   "metadata": {},
   "source": [
    "# 4. Write a python program: tuple1 = (10,50,20,40,30)"
   ]
  },
  {
   "cell_type": "code",
   "execution_count": 60,
   "id": "645632e3",
   "metadata": {},
   "outputs": [
    {
     "data": {
      "text/plain": [
       "(10, 50, 20, 40, 30)"
      ]
     },
     "execution_count": 60,
     "metadata": {},
     "output_type": "execute_result"
    }
   ],
   "source": [
    "tuple1 = (10,50,20,40,30)\n",
    "tuple1"
   ]
  },
  {
   "cell_type": "markdown",
   "id": "c0b1b1a6",
   "metadata": {},
   "source": [
    "To display the elements 10 and 50 from tuple1"
   ]
  },
  {
   "cell_type": "code",
   "execution_count": 66,
   "id": "6418bf39",
   "metadata": {},
   "outputs": [
    {
     "data": {
      "text/plain": [
       "10"
      ]
     },
     "execution_count": 66,
     "metadata": {},
     "output_type": "execute_result"
    }
   ],
   "source": [
    "element1 = tuple1[0]\n",
    "element1"
   ]
  },
  {
   "cell_type": "code",
   "execution_count": 67,
   "id": "326de3fa",
   "metadata": {},
   "outputs": [
    {
     "data": {
      "text/plain": [
       "50"
      ]
     },
     "execution_count": 67,
     "metadata": {},
     "output_type": "execute_result"
    }
   ],
   "source": [
    "element2 = tuple1[1]\n",
    "element2"
   ]
  },
  {
   "cell_type": "markdown",
   "id": "e3be9ce4",
   "metadata": {},
   "source": [
    "To display the length of a tuple1."
   ]
  },
  {
   "cell_type": "code",
   "execution_count": 71,
   "id": "185e1aef",
   "metadata": {},
   "outputs": [
    {
     "data": {
      "text/plain": [
       "5"
      ]
     },
     "execution_count": 71,
     "metadata": {},
     "output_type": "execute_result"
    }
   ],
   "source": [
    "length = len(tuple1)\n",
    "length"
   ]
  },
  {
   "cell_type": "markdown",
   "id": "6b7b8840",
   "metadata": {},
   "source": [
    "To find the minimum element from tuple1."
   ]
  },
  {
   "cell_type": "code",
   "execution_count": 72,
   "id": "ebe0b621",
   "metadata": {},
   "outputs": [
    {
     "data": {
      "text/plain": [
       "10"
      ]
     },
     "execution_count": 72,
     "metadata": {},
     "output_type": "execute_result"
    }
   ],
   "source": [
    "minimum = min(tuple1)\n",
    "minimum"
   ]
  },
  {
   "cell_type": "markdown",
   "id": "6d549bcc",
   "metadata": {},
   "source": [
    "To add all elements in the tuple1."
   ]
  },
  {
   "cell_type": "code",
   "execution_count": 73,
   "id": "b001ceaf",
   "metadata": {},
   "outputs": [
    {
     "data": {
      "text/plain": [
       "150"
      ]
     },
     "execution_count": 73,
     "metadata": {},
     "output_type": "execute_result"
    }
   ],
   "source": [
    "add = sum(tuple1)\n",
    "add"
   ]
  },
  {
   "cell_type": "markdown",
   "id": "ae796881",
   "metadata": {},
   "source": [
    "To display the same tuple1 multiple times."
   ]
  },
  {
   "cell_type": "code",
   "execution_count": 74,
   "id": "b6ff3899",
   "metadata": {},
   "outputs": [
    {
     "data": {
      "text/plain": [
       "(10, 50, 20, 40, 30, 10, 50, 20, 40, 30, 10, 50, 20, 40, 30)"
      ]
     },
     "execution_count": 74,
     "metadata": {},
     "output_type": "execute_result"
    }
   ],
   "source": [
    "tuple1*3"
   ]
  },
  {
   "cell_type": "markdown",
   "id": "f82f253c",
   "metadata": {},
   "source": [
    "# 5. Write a Python program"
   ]
  },
  {
   "cell_type": "code",
   "execution_count": 1,
   "id": "157d2c77",
   "metadata": {},
   "outputs": [],
   "source": [
    "string = \"Hello everyone!\""
   ]
  },
  {
   "cell_type": "markdown",
   "id": "53332489",
   "metadata": {},
   "source": [
    "To calculate the length of a string"
   ]
  },
  {
   "cell_type": "code",
   "execution_count": 2,
   "id": "d74f9564",
   "metadata": {},
   "outputs": [
    {
     "data": {
      "text/plain": [
       "15"
      ]
     },
     "execution_count": 2,
     "metadata": {},
     "output_type": "execute_result"
    }
   ],
   "source": [
    "len(string)"
   ]
  },
  {
   "cell_type": "markdown",
   "id": "90e7e476",
   "metadata": {},
   "source": [
    "To reverse words in a string"
   ]
  },
  {
   "cell_type": "code",
   "execution_count": 4,
   "id": "db87f637",
   "metadata": {},
   "outputs": [
    {
     "data": {
      "text/plain": [
       "'!enoyreve olleH'"
      ]
     },
     "execution_count": 4,
     "metadata": {},
     "output_type": "execute_result"
    }
   ],
   "source": [
    "rev = string[::-1]\n",
    "rev"
   ]
  },
  {
   "cell_type": "markdown",
   "id": "d865f833",
   "metadata": {},
   "source": [
    "To display the same string multiple times"
   ]
  },
  {
   "cell_type": "code",
   "execution_count": 5,
   "id": "f1a71050",
   "metadata": {},
   "outputs": [
    {
     "data": {
      "text/plain": [
       "'Hello everyone!Hello everyone!Hello everyone!'"
      ]
     },
     "execution_count": 5,
     "metadata": {},
     "output_type": "execute_result"
    }
   ],
   "source": [
    "string*3"
   ]
  },
  {
   "cell_type": "markdown",
   "id": "c0b59a10",
   "metadata": {},
   "source": [
    "To concatenate two strings"
   ]
  },
  {
   "cell_type": "code",
   "execution_count": 8,
   "id": "c03603a1",
   "metadata": {},
   "outputs": [],
   "source": [
    "string2=\" How are You?\""
   ]
  },
  {
   "cell_type": "code",
   "execution_count": 9,
   "id": "230e7663",
   "metadata": {},
   "outputs": [
    {
     "data": {
      "text/plain": [
       "'Hello everyone! How are You?'"
      ]
     },
     "execution_count": 9,
     "metadata": {},
     "output_type": "execute_result"
    }
   ],
   "source": [
    "new_string = string + string2\n",
    "new_string"
   ]
  },
  {
   "cell_type": "markdown",
   "id": "aa246b7d",
   "metadata": {},
   "source": [
    "Str1=\" South India\", using string slicing to display \"India\""
   ]
  },
  {
   "cell_type": "code",
   "execution_count": 12,
   "id": "f3f3007e",
   "metadata": {},
   "outputs": [
    {
     "data": {
      "text/plain": [
       "'India'"
      ]
     },
     "execution_count": 12,
     "metadata": {},
     "output_type": "execute_result"
    }
   ],
   "source": [
    "Str1=\"South India\"\n",
    "Str1[6::]"
   ]
  },
  {
   "cell_type": "markdown",
   "id": "3a63f22a",
   "metadata": {},
   "source": [
    "# 6. Perform the Following"
   ]
  },
  {
   "cell_type": "markdown",
   "id": "e24e649f",
   "metadata": {},
   "source": [
    "Creating the Dictionary."
   ]
  },
  {
   "cell_type": "code",
   "execution_count": 13,
   "id": "e22989ad",
   "metadata": {},
   "outputs": [],
   "source": [
    "my_dict = {\"name\": \"Gurman\",\"age\": 25,\"city\": \"Ludhiana\"}"
   ]
  },
  {
   "cell_type": "code",
   "execution_count": 14,
   "id": "32ebae27",
   "metadata": {},
   "outputs": [
    {
     "data": {
      "text/plain": [
       "{'name': 'Gurman', 'age': 25, 'city': 'Ludhiana'}"
      ]
     },
     "execution_count": 14,
     "metadata": {},
     "output_type": "execute_result"
    }
   ],
   "source": [
    "my_dict"
   ]
  },
  {
   "cell_type": "markdown",
   "id": "46ddf9b9",
   "metadata": {},
   "source": [
    "Accessing values and keys in the Dictionary."
   ]
  },
  {
   "cell_type": "code",
   "execution_count": 15,
   "id": "6909f227",
   "metadata": {},
   "outputs": [
    {
     "data": {
      "text/plain": [
       "dict_keys(['name', 'age', 'city'])"
      ]
     },
     "execution_count": 15,
     "metadata": {},
     "output_type": "execute_result"
    }
   ],
   "source": [
    "my_dict.keys()"
   ]
  },
  {
   "cell_type": "code",
   "execution_count": 16,
   "id": "1f2040a1",
   "metadata": {},
   "outputs": [
    {
     "data": {
      "text/plain": [
       "dict_values(['Gurman', 25, 'Ludhiana'])"
      ]
     },
     "execution_count": 16,
     "metadata": {},
     "output_type": "execute_result"
    }
   ],
   "source": [
    "my_dict.values()"
   ]
  },
  {
   "cell_type": "markdown",
   "id": "8c9154f2",
   "metadata": {},
   "source": [
    "Updating the dictionary using a function."
   ]
  },
  {
   "cell_type": "code",
   "execution_count": 18,
   "id": "b4ab8cc5",
   "metadata": {},
   "outputs": [
    {
     "data": {
      "text/plain": [
       "{'name': 'Gurman', 'age': 28, 'city': 'Ludhiana'}"
      ]
     },
     "execution_count": 18,
     "metadata": {},
     "output_type": "execute_result"
    }
   ],
   "source": [
    "def update_dictionary(my_dict):\n",
    "    my_dict[\"age\"] = 28\n",
    "\n",
    "update_dictionary(my_dict)\n",
    "my_dict"
   ]
  },
  {
   "cell_type": "markdown",
   "id": "4d9b72df",
   "metadata": {},
   "source": [
    "Clear and delete the dictionary values"
   ]
  },
  {
   "cell_type": "code",
   "execution_count": 19,
   "id": "a380b631",
   "metadata": {},
   "outputs": [],
   "source": [
    "my_dict.clear()"
   ]
  },
  {
   "cell_type": "code",
   "execution_count": 20,
   "id": "bf944137",
   "metadata": {},
   "outputs": [
    {
     "data": {
      "text/plain": [
       "{}"
      ]
     },
     "execution_count": 20,
     "metadata": {},
     "output_type": "execute_result"
    }
   ],
   "source": [
    "my_dict"
   ]
  },
  {
   "cell_type": "markdown",
   "id": "07b62c59",
   "metadata": {},
   "source": [
    "# 7. Python program to insert a number to any position in a list."
   ]
  },
  {
   "cell_type": "code",
   "execution_count": 25,
   "id": "f9443d13",
   "metadata": {},
   "outputs": [
    {
     "data": {
      "text/plain": [
       "[1, 2, 3, 66, 4, 5]"
      ]
     },
     "execution_count": 25,
     "metadata": {},
     "output_type": "execute_result"
    }
   ],
   "source": [
    "my_list = [1, 2, 3, 4, 5]\n",
    "my_list.insert(3, 66)\n",
    "my_list"
   ]
  },
  {
   "cell_type": "markdown",
   "id": "6fb84b58",
   "metadata": {},
   "source": [
    "# 8. Python program to delete an element from a list by index."
   ]
  },
  {
   "cell_type": "code",
   "execution_count": 26,
   "id": "92452720",
   "metadata": {},
   "outputs": [
    {
     "data": {
      "text/plain": [
       "[1, 2, 3, 4, 5]"
      ]
     },
     "execution_count": 26,
     "metadata": {},
     "output_type": "execute_result"
    }
   ],
   "source": [
    "del my_list[3]\n",
    "my_list"
   ]
  },
  {
   "cell_type": "markdown",
   "id": "62cc4c6f",
   "metadata": {},
   "source": [
    "# 9. Write a program to display a number from 1 to 100."
   ]
  },
  {
   "cell_type": "code",
   "execution_count": 31,
   "id": "76a5bb44",
   "metadata": {},
   "outputs": [
    {
     "name": "stdout",
     "output_type": "stream",
     "text": [
      "1\t2\t3\t4\t5\t6\t7\t8\t9\t10\t11\t12\t13\t14\t15\t16\t17\t18\t19\t20\t21\t22\t23\t24\t25\t26\t27\t28\t29\t30\t31\t32\t33\t34\t35\t36\t37\t38\t39\t40\t41\t42\t43\t44\t45\t46\t47\t48\t49\t50\t51\t52\t53\t54\t55\t56\t57\t58\t59\t60\t61\t62\t63\t64\t65\t66\t67\t68\t69\t70\t71\t72\t73\t74\t75\t76\t77\t78\t79\t80\t81\t82\t83\t84\t85\t86\t87\t88\t89\t90\t91\t92\t93\t94\t95\t96\t97\t98\t99\t100\t"
     ]
    }
   ],
   "source": [
    "for i in range(1,101):\n",
    "    print(i,end='\\t')"
   ]
  },
  {
   "cell_type": "markdown",
   "id": "cc0aadaf",
   "metadata": {},
   "source": [
    "# 10. Write a python program to find the sum of all items in a tuple."
   ]
  },
  {
   "cell_type": "code",
   "execution_count": 34,
   "id": "a713d051",
   "metadata": {},
   "outputs": [
    {
     "name": "stdout",
     "output_type": "stream",
     "text": [
      "Sum of all items in the tuple (1, 2, 3, 4, 5, 6, 7) is 28\n"
     ]
    }
   ],
   "source": [
    "my_tuple = (1, 2, 3, 4, 5, 6, 7)\n",
    "total_sum = 0\n",
    "for item in my_tuple:\n",
    "    total_sum += item\n",
    "print(\"Sum of all items in the tuple {} is {}\".format(my_tuple,total_sum))"
   ]
  },
  {
   "cell_type": "markdown",
   "id": "98b1fe41",
   "metadata": {},
   "source": [
    "# 12. A list of words is given. Find the words from the list that have their second character in uppercase.\n",
    "\n",
    "Is=['hello' 'Dear' 'how' 'ARe' 'You']"
   ]
  },
  {
   "cell_type": "code",
   "execution_count": 2,
   "id": "6262398c",
   "metadata": {},
   "outputs": [
    {
     "name": "stdout",
     "output_type": "stream",
     "text": [
      "Words with the second character in uppercase:\n",
      "['ARe']\n"
     ]
    }
   ],
   "source": [
    "words_list = ['hello', 'Dear', 'how', 'ARe', 'You']\n",
    "\n",
    "result_words = []\n",
    "\n",
    "for word in words_list:\n",
    "    if word[1].isupper():\n",
    "        result_words.append(word)\n",
    "\n",
    "print(\"Words with the second character in uppercase:\")\n",
    "print(result_words)"
   ]
  },
  {
   "cell_type": "markdown",
   "id": "de9d39c5",
   "metadata": {},
   "source": [
    "# 13. A dictionary of names and their weights on earth is given. Find how much they will weigh on the moon. (Use map and lambda functions)Formula wMoon = (wEarth * GMoon) / GEarth\n",
    "\n",
    "#Weight of people in kg \n",
    "\n",
    "Weight On Earth = ['John':45, 'Shelly':65, 'Marry':35)\n",
    "\n",
    "#Gravitational force on the Moon: 1.622 m/s2\n",
    "\n",
    "GMoon = 1.622\n",
    "\n",
    "#Gravitational force on the Earth: 9.81 m/s2\n",
    "\n",
    "GEarth = 9.81"
   ]
  },
  {
   "cell_type": "code",
   "execution_count": 5,
   "id": "d9d4c1a9",
   "metadata": {},
   "outputs": [
    {
     "name": "stdout",
     "output_type": "stream",
     "text": [
      "Weights on the Moon:\n",
      "John: 7.440366972477065 kg\n",
      "Shelly: 10.747196738022426 kg\n",
      "Marry: 5.786952089704383 kg\n"
     ]
    }
   ],
   "source": [
    "weight_on_earth = {'John': 45, 'Shelly': 65, 'Marry': 35}\n",
    "\n",
    "GMoon = 1.622  \n",
    "GEarth = 9.81  \n",
    "\n",
    "weights_on_moon = list(map(lambda w: (w * GMoon) / GEarth, weight_on_earth.values()))\n",
    "\n",
    "weight_on_moon = dict(zip(weight_on_earth.keys(), weights_on_moon))\n",
    "\n",
    "print(\"Weights on the Moon:\")\n",
    "for name, weight in weight_on_moon.items():\n",
    "    print(\"{}: {} kg\".format(name,weight))"
   ]
  },
  {
   "cell_type": "markdown",
   "id": "bf425335",
   "metadata": {},
   "source": [
    "# Control Structures :"
   ]
  },
  {
   "cell_type": "markdown",
   "id": "9756a37d",
   "metadata": {},
   "source": [
    "# 1. Write a python program to find the first N Prime numbers."
   ]
  },
  {
   "cell_type": "code",
   "execution_count": 10,
   "id": "61f5d48c",
   "metadata": {},
   "outputs": [
    {
     "name": "stdout",
     "output_type": "stream",
     "text": [
      "Enter the value of 'N': 100\n",
      "2 3 5 7 11 13 17 19 23 29 31 37 41 43 47 53 59 61 67 71 73 79 83 89 97 "
     ]
    }
   ],
   "source": [
    "def isPrime(n):\n",
    "    if n <= 1:\n",
    "        return False\n",
    "\n",
    "    for i in range(2, n):\n",
    "        if n % i == 0:\n",
    "            return False\n",
    "\n",
    "    return True\n",
    "\n",
    "N = int(input(\"Enter the value of 'N': \"))\n",
    "\n",
    "for i in range(2, N + 1):\n",
    "    if isPrime(i):\n",
    "        print(i, end=\" \")\n"
   ]
  },
  {
   "cell_type": "markdown",
   "id": "50106cd4",
   "metadata": {},
   "source": [
    "# 2. Wite the python code that calculates the salary of an employee. Prompt the user to enter the Basic Salary, HRA, TA, and DA. Add these components to calculate the Gross Salary. Also, deduct 10% of salary from the Gross Salary to be paid as tax and display gross minus tax as net salary."
   ]
  },
  {
   "cell_type": "code",
   "execution_count": 11,
   "id": "3fd17e6f",
   "metadata": {},
   "outputs": [
    {
     "name": "stdout",
     "output_type": "stream",
     "text": [
      "Enter Basic Salary: 3000\n",
      "Enter HRA: 3555\n",
      "Enter TA: 5000\n",
      "Enter DA: 2000\n",
      "Gross Salary: 13555.0\n",
      "Tax: 1355.5\n",
      "Net Salary: 12199.5\n"
     ]
    }
   ],
   "source": [
    "basic_salary = float(input(\"Enter Basic Salary: \"))\n",
    "hra = int(input(\"Enter HRA: \"))\n",
    "ta = int(input(\"Enter TA: \"))\n",
    "da = int(input(\"Enter DA: \"))\n",
    "\n",
    "gross_salary = basic_salary + hra + ta + da\n",
    "\n",
    "tax = 0.10 * gross_salary\n",
    "\n",
    "net_salary = gross_salary - tax\n",
    "\n",
    "print(\"Gross Salary: {}\".format(gross_salary))\n",
    "print(\"Tax: {}\".format(tax))\n",
    "print(\"Net Salary: {}\".format(net_salary))\n"
   ]
  },
  {
   "cell_type": "markdown",
   "id": "d7496312",
   "metadata": {},
   "source": [
    "# 3. Write a python program to search for a string in the given list."
   ]
  },
  {
   "cell_type": "code",
   "execution_count": 15,
   "id": "5868530c",
   "metadata": {},
   "outputs": [
    {
     "name": "stdout",
     "output_type": "stream",
     "text": [
      "Enter the string to search for: date\n",
      "The string 'date' was found in the list.\n"
     ]
    }
   ],
   "source": [
    "string_list = [\"apple\", \"banana\", \"cherry\", \"date\", \"grape\"]\n",
    "\n",
    "search_string = input(\"Enter the string to search for: \")\n",
    "\n",
    "found = False\n",
    "\n",
    "for s in string_list:\n",
    "    if search_string.lower() == s.lower():\n",
    "        found = True\n",
    "        break\n",
    "\n",
    "if found:\n",
    "    print(\"The string '{}' was found in the list.\".format(search_string))\n",
    "else:\n",
    "    print(\"The string '{}' was not found in the list.\".format(search_string))\n"
   ]
  },
  {
   "cell_type": "markdown",
   "id": "fb846d7a",
   "metadata": {},
   "source": [
    "# 4. Write a Python function that accepts a string and calculates the number of upper-case letters and lower-case letters."
   ]
  },
  {
   "cell_type": "code",
   "execution_count": 17,
   "id": "278990a1",
   "metadata": {},
   "outputs": [
    {
     "name": "stdout",
     "output_type": "stream",
     "text": [
      "Enter a string: HelLo\n",
      "Uppercase letters: 2\n",
      "Lowercase letters: 3\n"
     ]
    }
   ],
   "source": [
    "def count_upper_and_lower_case_letters(input_string):\n",
    "    uppercase_count = 0\n",
    "    lowercase_count = 0\n",
    "\n",
    "    for char in input_string:\n",
    "        if char.isupper():\n",
    "            uppercase_count += 1\n",
    "        elif char.islower():\n",
    "            lowercase_count += 1\n",
    "\n",
    "    return uppercase_count, lowercase_count\n",
    "\n",
    "user_string = input(\"Enter a string: \")\n",
    "\n",
    "uppercase, lowercase = count_upper_and_lower_case_letters(user_string)\n",
    "\n",
    "print(\"Uppercase letters: {}\".format(uppercase))\n",
    "print(\"Lowercase letters: {}\".format(lowercase))\n"
   ]
  },
  {
   "cell_type": "markdown",
   "id": "9e92e510",
   "metadata": {},
   "source": [
    "# 5. Write a program to display the sum of odd numbers and even numbers that fall between 12 and 37."
   ]
  },
  {
   "cell_type": "code",
   "execution_count": 18,
   "id": "72839b23",
   "metadata": {},
   "outputs": [
    {
     "name": "stdout",
     "output_type": "stream",
     "text": [
      "Sum of even numbers between 12 and 37: 312\n",
      "Sum of odd numbers between 12 and 37: 325\n"
     ]
    }
   ],
   "source": [
    "even_sum = 0\n",
    "odd_sum = 0\n",
    "\n",
    "for num in range(12, 38):\n",
    "    if num % 2 == 0:\n",
    "        even_sum += num \n",
    "    else:\n",
    "        odd_sum += num \n",
    "\n",
    "print(\"Sum of even numbers between 12 and 37: {}\".format(even_sum))\n",
    "print(\"Sum of odd numbers between 12 and 37: {}\".format(odd_sum))\n"
   ]
  },
  {
   "cell_type": "markdown",
   "id": "2a807dce",
   "metadata": {},
   "source": [
    "# 6. Write a python Program to print the table of any number."
   ]
  },
  {
   "cell_type": "code",
   "execution_count": 20,
   "id": "950a5b3a",
   "metadata": {},
   "outputs": [
    {
     "name": "stdout",
     "output_type": "stream",
     "text": [
      "Enter a number to print its multiplication table: 4\n",
      "Multiplication table for 4:\n",
      "4 x 1 = 4\n",
      "4 x 2 = 8\n",
      "4 x 3 = 12\n",
      "4 x 4 = 16\n",
      "4 x 5 = 20\n",
      "4 x 6 = 24\n",
      "4 x 7 = 28\n",
      "4 x 8 = 32\n",
      "4 x 9 = 36\n",
      "4 x 10 = 40\n"
     ]
    }
   ],
   "source": [
    "num = int(input(\"Enter a number to print its multiplication table: \"))\n",
    "\n",
    "table_range = range(1, 11)\n",
    "\n",
    "print(\"Multiplication table for {}:\".format(num))\n",
    "for i in table_range:\n",
    "    result = num * i\n",
    "    print(\"{} x {} = {}\".format(num,i,result))"
   ]
  },
  {
   "cell_type": "markdown",
   "id": "7d48382c",
   "metadata": {},
   "source": [
    "# 7.Write a Python program to sum the first 10 prime numbers."
   ]
  },
  {
   "cell_type": "code",
   "execution_count": 22,
   "id": "d186bf79",
   "metadata": {},
   "outputs": [
    {
     "name": "stdout",
     "output_type": "stream",
     "text": [
      "The sum of the first 10 prime numbers is: 129\n"
     ]
    }
   ],
   "source": [
    "count_primes = 0\n",
    "sum_primes = 0\n",
    "num = 2 \n",
    "\n",
    "def is_prime(n):\n",
    "    if n <= 1:\n",
    "        return False\n",
    "\n",
    "    for i in range(2, n):\n",
    "        if n % i == 0:\n",
    "            return False\n",
    "\n",
    "    return True\n",
    "\n",
    "while count_primes < 10:\n",
    "    if is_prime(num):\n",
    "        sum_primes += num\n",
    "        count_primes += 1\n",
    "    num += 1\n",
    "\n",
    "print(\"The sum of the first 10 prime numbers is: {}\".format(sum_primes))"
   ]
  },
  {
   "cell_type": "markdown",
   "id": "0114cbb7",
   "metadata": {},
   "source": [
    "# 8. Write a python program to implement arithmetic operations using nested if statement."
   ]
  },
  {
   "cell_type": "code",
   "execution_count": 23,
   "id": "5b3568d1",
   "metadata": {},
   "outputs": [
    {
     "name": "stdout",
     "output_type": "stream",
     "text": [
      "Enter the first number: 4\n",
      "Enter the second number: 6\n",
      "Enter the operation (+, -, *, /): *\n",
      "Result: 24.0\n"
     ]
    }
   ],
   "source": [
    "num1 = float(input(\"Enter the first number: \"))\n",
    "num2 = float(input(\"Enter the second number: \"))\n",
    "operation = input(\"Enter the operation (+, -, *, /): \")\n",
    "\n",
    "result = None\n",
    "\n",
    "if operation == \"+\":\n",
    "    result = num1 + num2\n",
    "elif operation == \"-\":\n",
    "    result = num1 - num2\n",
    "elif operation == \"*\":\n",
    "    result = num1 * num2\n",
    "elif operation == \"/\":\n",
    "    if num2 == 0:\n",
    "        print(\"Error: Division by zero is not allowed.\")\n",
    "    else:\n",
    "        result = num1 / num2\n",
    "else:\n",
    "    print(\"Invalid operation!\")\n",
    "\n",
    "if result is not None:\n",
    "    print(\"Result: {}\".format(result))"
   ]
  },
  {
   "cell_type": "markdown",
   "id": "1717d7b0",
   "metadata": {},
   "source": [
    "# 9. Write a python program to take the temperature in Celsius and convert it to a Fahrenheit."
   ]
  },
  {
   "cell_type": "code",
   "execution_count": 24,
   "id": "5f25d828",
   "metadata": {},
   "outputs": [
    {
     "name": "stdout",
     "output_type": "stream",
     "text": [
      "Enter the temperature in Celsius: 98.6\n",
      "The temperature in Fahrenheit is: 209.48°F\n"
     ]
    }
   ],
   "source": [
    "celsius = float(input(\"Enter the temperature in Celsius: \"))\n",
    "\n",
    "fahrenheit = (celsius * 9/5) + 32\n",
    "\n",
    "print(\"The temperature in Fahrenheit is: {}°F\".format(fahrenheit))"
   ]
  },
  {
   "cell_type": "markdown",
   "id": "7ed76d38",
   "metadata": {},
   "source": [
    "# 10. Write a python program to find a maximum and minimum number in a list without using an inbuilt function."
   ]
  },
  {
   "cell_type": "code",
   "execution_count": 25,
   "id": "10b4aeae",
   "metadata": {},
   "outputs": [
    {
     "name": "stdout",
     "output_type": "stream",
     "text": [
      "Enter a list of numbers separated by spaces: 33 4 1 55 0\n",
      "Maximum number: 55\n",
      "Minimum number: 0\n"
     ]
    }
   ],
   "source": [
    "numbers = input(\"Enter a list of numbers separated by spaces: \").split()\n",
    "\n",
    "numbers = [int(num) for num in numbers]\n",
    "\n",
    "max_num = numbers[0]\n",
    "min_num = numbers[0]\n",
    "\n",
    "for num in numbers:\n",
    "    if num > max_num:\n",
    "        max_num = num\n",
    "    if num < min_num:\n",
    "        min_num = num\n",
    "\n",
    "print(\"Maximum number: {}\".format(max_num))\n",
    "print(\"Minimum number: {}\".format(min_num))\n"
   ]
  },
  {
   "cell_type": "markdown",
   "id": "531a0445",
   "metadata": {},
   "source": [
    "# 11. Write a program in python to print out the number of seconds in 30-day month 30 days, 24 hours in a day, 60 minutes per day, 60 seconds in a minute."
   ]
  },
  {
   "cell_type": "code",
   "execution_count": 26,
   "id": "85f1cfc4",
   "metadata": {},
   "outputs": [
    {
     "name": "stdout",
     "output_type": "stream",
     "text": [
      "The number of seconds in a 30-day month is: 2592000 seconds\n"
     ]
    }
   ],
   "source": [
    "days_per_month = 30\n",
    "hours_per_day = 24\n",
    "minutes_per_hour = 60\n",
    "seconds_per_minute = 60\n",
    "\n",
    "total_seconds = days_per_month * hours_per_day * minutes_per_hour * seconds_per_minute\n",
    "\n",
    "print(\"The number of seconds in a 30-day month is: {} seconds\".format(total_seconds))"
   ]
  },
  {
   "cell_type": "markdown",
   "id": "45f2f6d5",
   "metadata": {},
   "source": [
    "# 12. Write a program in python to print out the number of seconds in a year. "
   ]
  },
  {
   "cell_type": "code",
   "execution_count": 27,
   "id": "a2657258",
   "metadata": {},
   "outputs": [
    {
     "name": "stdout",
     "output_type": "stream",
     "text": [
      "The number of seconds in a year is: 31536000 seconds\n"
     ]
    }
   ],
   "source": [
    "days_per_year = 365\n",
    "hours_per_day = 24\n",
    "minutes_per_hour = 60\n",
    "seconds_per_minute = 60\n",
    "\n",
    "total_seconds = days_per_year * hours_per_day * minutes_per_hour * seconds_per_minute\n",
    "\n",
    "print(\"The number of seconds in a year is: {} seconds\".format(total_seconds))"
   ]
  },
  {
   "cell_type": "markdown",
   "id": "fc5acc5c",
   "metadata": {},
   "source": [
    "# 13. A high-speed train can travel at an average speed of 150 mph, how long will it take a train travelling at this speed to travel from London to Glasgow which is 414 miles away?"
   ]
  },
  {
   "cell_type": "code",
   "execution_count": 29,
   "id": "bedb3f36",
   "metadata": {},
   "outputs": [
    {
     "name": "stdout",
     "output_type": "stream",
     "text": [
      "It will take 2.76 hours to travel from London to Glasgow.\n"
     ]
    }
   ],
   "source": [
    "distance_miles = 414\n",
    "speed_mph = 150\n",
    "\n",
    "travel_time_hours = distance_miles / speed_mph\n",
    "\n",
    "print(\"It will take {} hours to travel from London to Glasgow.\".format(travel_time_hours))"
   ]
  },
  {
   "cell_type": "markdown",
   "id": "5cc971f1",
   "metadata": {},
   "source": [
    "# 14. Write a python program that defines a variable called days_in_each_school_year and assign 192 to the variable. The program should then print out the total hours that you spend in school from year 7 to year 11, if each day you spend 6 hours in school days_in_each_school_year = 192"
   ]
  },
  {
   "cell_type": "code",
   "execution_count": 30,
   "id": "ec34a90a",
   "metadata": {},
   "outputs": [
    {
     "name": "stdout",
     "output_type": "stream",
     "text": [
      "Total hours spent in school from year 7 to year 11: 5760 hours\n"
     ]
    }
   ],
   "source": [
    "days_in_each_school_year = 192\n",
    "hours_per_day = 6\n",
    "\n",
    "total_hours = 0\n",
    "for year in range(7, 12):\n",
    "    total_hours += days_in_each_school_year * hours_per_day\n",
    "\n",
    "print(\"Total hours spent in school from year 7 to year 11: {} hours\".format(total_hours))"
   ]
  },
  {
   "cell_type": "markdown",
   "id": "980a7d41",
   "metadata": {},
   "source": [
    "# 15. If the age of Ram Sam and Khan are input through the keyboard write a python program to determine the eldest and youngest of the three."
   ]
  },
  {
   "cell_type": "code",
   "execution_count": 33,
   "id": "d879e553",
   "metadata": {},
   "outputs": [
    {
     "name": "stdout",
     "output_type": "stream",
     "text": [
      "Enter the age of Ram: 6\n",
      "Enter the age of Sam: 2\n",
      "Enter the age of Khan: 4\n",
      "The eldest among Ram, Sam, and Khan is Ram.\n",
      "The youngest among Ram, Sam, and Khan is Sam.\n"
     ]
    }
   ],
   "source": [
    "def find_eldest_and_youngest(ram_age, sam_age, khan_age):\n",
    "    if ram_age >= sam_age and ram_age >= khan_age:\n",
    "        eldest_name = \"Ram\"\n",
    "    elif sam_age >= ram_age and sam_age >= khan_age:\n",
    "        eldest_name = \"Sam\"\n",
    "    else:\n",
    "        eldest_name = \"Khan\"\n",
    "\n",
    "    if ram_age <= sam_age and ram_age <= khan_age:\n",
    "        youngest_name = \"Ram\"\n",
    "    elif sam_age <= ram_age and sam_age <= khan_age:\n",
    "        youngest_name = \"Sam\"\n",
    "    else:\n",
    "        youngest_name = \"Khan\"\n",
    "\n",
    "    return eldest_name, youngest_name\n",
    "\n",
    "ram_age = int(input(\"Enter the age of Ram: \"))\n",
    "sam_age = int(input(\"Enter the age of Sam: \"))\n",
    "khan_age = int(input(\"Enter the age of Khan: \"))\n",
    "\n",
    "eldest, youngest = find_eldest_and_youngest(ram_age, sam_age, khan_age)\n",
    "\n",
    "print(\"The eldest among Ram, Sam, and Khan is {}.\".format(eldest))\n",
    "print(\"The youngest among Ram, Sam, and Khan is {}.\".format(youngest))"
   ]
  },
  {
   "cell_type": "markdown",
   "id": "11fa640a",
   "metadata": {},
   "source": [
    "# 16. Write a python program to rotate a list by right n times with and without slicing technique."
   ]
  },
  {
   "cell_type": "code",
   "execution_count": 40,
   "id": "270012af",
   "metadata": {},
   "outputs": [
    {
     "name": "stdout",
     "output_type": "stream",
     "text": [
      "Enter the number of right rotations: 2\n",
      "List after rotation using slicing: [4, 5, 1, 2, 3]\n"
     ]
    }
   ],
   "source": [
    "#With Slicing\n",
    "\n",
    "def rotate_right_with_slicing(arr, n):\n",
    "    n = n % len(arr)\n",
    "    rotated_list = arr[-n:] + arr[:-n]\n",
    "    return rotated_list\n",
    "\n",
    "my_list = [1, 2, 3, 4, 5]\n",
    "rotations = int(input(\"Enter the number of right rotations: \"))\n",
    "\n",
    "result = rotate_right_with_slicing(my_list, rotations)\n",
    "print(\"List after rotation using slicing:\", result)"
   ]
  },
  {
   "cell_type": "code",
   "execution_count": 38,
   "id": "bf786428",
   "metadata": {},
   "outputs": [
    {
     "name": "stdout",
     "output_type": "stream",
     "text": [
      "Enter the number of right rotations: 3\n",
      "List after rotation without slicing: [3, 4, 5, 1, 2]\n"
     ]
    }
   ],
   "source": [
    "#Without Slicing\n",
    "\n",
    "def rotate_right_without_slicing(arr, n):\n",
    "    n = n % len(arr)\n",
    "    for _ in range(n):\n",
    "        arr.insert(0, arr.pop())\n",
    "\n",
    "my_list = [1, 2, 3, 4, 5]\n",
    "rotations = int(input(\"Enter the number of right rotations: \"))\n",
    "\n",
    "rotate_right_without_slicing(my_list, rotations)\n",
    "print(\"List after rotation without slicing:\", my_list)"
   ]
  },
  {
   "cell_type": "code",
   "execution_count": null,
   "id": "36e4972e",
   "metadata": {},
   "outputs": [],
   "source": []
  }
 ],
 "metadata": {
  "kernelspec": {
   "display_name": "Python 3 (ipykernel)",
   "language": "python",
   "name": "python3"
  },
  "language_info": {
   "codemirror_mode": {
    "name": "ipython",
    "version": 3
   },
   "file_extension": ".py",
   "mimetype": "text/x-python",
   "name": "python",
   "nbconvert_exporter": "python",
   "pygments_lexer": "ipython3",
   "version": "3.11.4"
  }
 },
 "nbformat": 4,
 "nbformat_minor": 5
}
