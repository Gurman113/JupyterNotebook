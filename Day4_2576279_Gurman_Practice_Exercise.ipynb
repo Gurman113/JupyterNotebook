{
 "cells": [
  {
   "cell_type": "markdown",
   "id": "07b67edb",
   "metadata": {},
   "source": [
    "# 1 Write a python program ram with Exception handling to input marks for five subjects Physics, Chemistry, Biology, Mathematics, and Computer Calculate the percentage and grade according to the following:\n",
    "\n",
    "i) Percentage >= 90%, Grade A\n",
    "\n",
    "ii) Percentage >= 80%. Grade B\n",
    "\n",
    "iii) Percentage >= 70%: Grade C\n",
    "\n",
    "iv) Percentage >= 60%: Grade D\n",
    "\n",
    "v) Percentage >= 40%: Grade E\n",
    "\n",
    "vi) Percentage < 40%. Grade F"
   ]
  },
  {
   "cell_type": "code",
   "execution_count": 4,
   "id": "0a129906",
   "metadata": {},
   "outputs": [
    {
     "name": "stdout",
     "output_type": "stream",
     "text": [
      "Enter Math marks : 77\n",
      "Enter English marks : 66\n",
      "Enter Physics marks : 88\n",
      "Enter Chemistry marks : 77\n",
      "Enter Hindi marks : 66\n",
      "Percentage: 74.8%\n",
      "Grade: C\n"
     ]
    }
   ],
   "source": [
    "try:    \n",
    "    marks = {} \n",
    "    total = 0 \n",
    "    subjects = [\"Math\", \"English\", \"Physics\", \"Chemistry\", \"Hindi\"] \n",
    "\n",
    "    for subject in subjects: \n",
    "        marks[subject] = input(\"Enter \" + subject + \" marks : \") \n",
    "\n",
    "    for key in marks.values(): \n",
    "        total += int(key) \n",
    "\n",
    "    percentage = (total*100) / 500  \n",
    "\n",
    "    if percentage > 90:\n",
    "        grade = 'A'\n",
    "    elif percentage >= 80:\n",
    "        grade = 'B'\n",
    "    elif percentage >= 70:\n",
    "        grade = 'C'\n",
    "    elif percentage >= 60:\n",
    "        grade = 'D'\n",
    "    elif percentage >= 40:\n",
    "        grade = 'E'\n",
    "    else:\n",
    "        grade = 'F'\n",
    "\n",
    "    print(f\"Percentage: {percentage}%\")\n",
    "    print(f\"Grade: {grade}\")\n",
    "except ValueError:\n",
    "    print(\"Invalid input. Please enter numeric values for marks.\")\n",
    "except Exception as e:\n",
    "    print(f\"An error occurred: {str(e)}\")"
   ]
  },
  {
   "cell_type": "markdown",
   "id": "80479f9b",
   "metadata": {},
   "source": [
    "# 2. Write a python program with Exception handling to input electricity unit charges and calculate the total electricity bill according to the given condition:\n",
    "\n",
    "i) For the first 50 units Rt.0.50/unit\n",
    "\n",
    "ii) For the next 100 units is 0.75/unit\n",
    "\n",
    "iii) For the next 100 units 1.20/unit\n",
    "\n",
    "iv) For units above 250 Rs. 1.50/unit\n",
    "\n",
    "v) An additional surcharge of 20% is added to the bill."
   ]
  },
  {
   "cell_type": "code",
   "execution_count": 20,
   "id": "c7fa0152",
   "metadata": {},
   "outputs": [
    {
     "name": "stdout",
     "output_type": "stream",
     "text": [
      "Enter total units consumed: 600\n",
      "Total Electricity Bill: Rs. 765.0\n"
     ]
    }
   ],
   "source": [
    "try:\n",
    "    total_units = int(input(\"Enter total units consumed: \"))\n",
    "    bill = 0\n",
    "    surcharge = 20\n",
    "    if total_units <= 50:\n",
    "        bill = total_units * 0.50\n",
    "    elif total_units <= 150:\n",
    "        bill = (50 * 0.50) + ((total_units - 50) * 0.75)\n",
    "    elif total_units <= 250:\n",
    "        bill = (50 * 0.50) + (100 * 0.75) + ((total_units - 150) * 1.20)\n",
    "    else:\n",
    "        bill = (50 * 0.50) + (100 * 0.75) + (100 * 1.20) + ((total_units - 250) * 1.50)\n",
    "    total_bill = bill + surcharge\n",
    "    print(\"Total Electricity Bill: Rs. {}\".format(total_bill))\n",
    "except ValueError:\n",
    "    print(\"Invalid input! Please enter a valid number of units.\")\n",
    "except Exception as e:\n",
    "    print(\"An error occurred: {}\".format(str(e)))"
   ]
  },
  {
   "cell_type": "markdown",
   "id": "3344510f",
   "metadata": {},
   "source": [
    "# 3. Write a python program with Exception handling to input the week number and print the weekday."
   ]
  },
  {
   "cell_type": "code",
   "execution_count": 13,
   "id": "9be62a83",
   "metadata": {},
   "outputs": [
    {
     "name": "stdout",
     "output_type": "stream",
     "text": [
      "Enter a week number (1-7): 5\n",
      "The weekday for week number 5 is Friday.\n"
     ]
    }
   ],
   "source": [
    "try:\n",
    "    week_number = int(input(\"Enter a week number (1-7): \"))\n",
    "\n",
    "    if 1 <= week_number and week_number <= 7:\n",
    "        weekdays = [\"Monday\", \"Tuesday\", \"Wednesday\", \"Thursday\", \"Friday\", \"Saturday\", \"Sunday\"]\n",
    "        weekday = weekdays[week_number - 1]\n",
    "        print(\"The weekday for week number {} is {}.\".format(week_number,weekday))\n",
    "    else:\n",
    "        print(\"Invalid week number. Please enter a number between 1 and 7.\")\n",
    "except ValueError:\n",
    "    print(\"Invalid input. Please enter a valid number between 1 and 7.\")\n",
    "except IndexError:\n",
    "    print(\"Invalid week number. Please enter a number between 1 and 7.\")"
   ]
  },
  {
   "cell_type": "markdown",
   "id": "16d77c13",
   "metadata": {},
   "source": [
    "# 4. Write a Python program to implement word count using command line arguments. i) Create a text document \"apple.txt\" whch contains text for wordcount.\n",
    "\n",
    "ii) Create a wordcount program which calls the \"apple.txt\" document by opening the file\n",
    "\n",
    "If the word is present again in the \"aaple.txt\", the wordcount is incremented by 1 until all the words are counted in the document.\n",
    "\n",
    "iv) Close the file.\n",
    "\n",
    "v) Create a command.py program which imports the wordcount.py program.\n",
    "\n",
    "vi) Count the number of words using command line arguments.\n",
    "\n",
    "vii) Print each word and its count"
   ]
  },
  {
   "cell_type": "code",
   "execution_count": null,
   "id": "20ab5d77",
   "metadata": {},
   "outputs": [],
   "source": [
    "# wordcount.py\n",
    "\n",
    "def count_words(filename):\n",
    "    try:\n",
    "        with open(filename, 'r') as file:\n",
    "            text = file.read()\n",
    "            words = text.split()\n",
    "            word_count = {}\n",
    "\n",
    "            for word in words:\n",
    "                word = word.strip('.,!?()[]{}\"\\'').lower()\n",
    "                if word in word_count:\n",
    "                    word_count[word] += 1\n",
    "                else:\n",
    "                    word_count[word] = 1\n",
    "\n",
    "            return word_count\n",
    "    except FileNotFoundError:\n",
    "        print(f\"The file '{filename}' was not found.\")\n",
    "    except Exception as e:\n",
    "        print(f\"An error occurred: {str(e)}\")\n",
    "\n",
    "if __name__ == \"__main__\":\n",
    "    import sys\n",
    "\n",
    "    if len(sys.argv) != 2:\n",
    "        print(\"Usage: python wordcount.py <filename>\")\n",
    "    else:\n",
    "        filename = sys.argv[1]\n",
    "        word_count = count_words(filename)\n",
    "\n",
    "        if word_count:\n",
    "            for word, count in word_count.items():\n",
    "                print(f\"{word}: {count}\")\n",
    "\n",
    "# import command.py\n",
    "                \n",
    "import wordcount\n",
    "\n",
    "if __name__ == \"__main__\":\n",
    "    import sys\n",
    "\n",
    "    if len(sys.argv) != 2:\n",
    "        print(\"Usage: python command.py <filename>\")\n",
    "    else:\n",
    "        filename = sys.argv[1]\n",
    "        word_count = wordcount.count_words(filename)\n",
    "\n",
    "        if word_count:\n",
    "            for word, count in word_count.items():\n",
    "                print(f\"{word}: {count}\")\n"
   ]
  },
  {
   "cell_type": "markdown",
   "id": "81e9bca5",
   "metadata": {},
   "source": [
    "# 5. Write a Python program for finding the most frequent words in a text read from a file.\n",
    "\n",
    "i) Initially open the text file in read mode.\n",
    "\n",
    "ii) Make all the letters in the document into lowercase letters and split the words in each line.\n",
    "\n",
    "iii) Get the words in an order\n",
    "\n",
    "iv) M Sort the words for finding the most frequent words in the file\n",
    "\n",
    "v) Print the most frequent words in the file."
   ]
  },
  {
   "cell_type": "code",
   "execution_count": 16,
   "id": "6ccdb291",
   "metadata": {},
   "outputs": [
    {
     "name": "stdout",
     "output_type": "stream",
     "text": [
      "Enter the name of the text file: text.txt\n",
      "The 10 most frequent words in the file are:\n",
      "python: 3 times\n",
      "is: 2 times\n",
      "programming: 2 times\n",
      "and: 2 times\n",
      "a: 1 times\n",
      "high-level,: 1 times\n",
      "general-purpose: 1 times\n",
      "language.: 1 times\n",
      "its: 1 times\n",
      "design: 1 times\n"
     ]
    }
   ],
   "source": [
    "# i) Initially open the text file in read mode.\n",
    "\n",
    "try:\n",
    "    file_name = input(\"Enter the name of the text file: \")\n",
    "    with open(file_name, 'r') as file:\n",
    "        text = file.read()\n",
    "\n",
    "# ii) Make all the letters in the document into lowercase letters and split the words in each line.\n",
    "    \n",
    "    words = text.lower().split()\n",
    "\n",
    "# iii) Get the words in an order\n",
    "\n",
    "    word_count = {}\n",
    "    for word in words:\n",
    "        if word in word_count:\n",
    "            word_count[word] += 1\n",
    "        else:\n",
    "            word_count[word] = 1\n",
    "\n",
    "# iv) Sort the words for finding the most frequent words in the file\n",
    "\n",
    "    sorted_words = sorted(word_count.items(), key=lambda x: x[1], reverse=True)\n",
    "\n",
    "# v) Print the most frequent words in the file.\n",
    "\n",
    "    num_words_to_print = min(10, len(sorted_words))\n",
    "    print(\"The {} most frequent words in the file are:\".format(num_words_to_print))\n",
    "    for i in range(num_words_to_print):\n",
    "        word, frequency = sorted_words[i]\n",
    "        print(\"{}: {} times\".format(word,frequency))\n",
    "except FileNotFoundError:\n",
    "    print(\"The file '{}' was not found.\".format(file_name))\n",
    "except Exception as e:\n",
    "    print(\"An error occurred: {}\".format(str(e)))\n"
   ]
  },
  {
   "cell_type": "markdown",
   "id": "f99d2d9c",
   "metadata": {},
   "source": [
    "# 6 File Processing with Command-Line Arguments- Scenario: You are developing a command-line utility that processes text files. Users can specify input and output file paths as command-line arguments. Your program should handle exceptions gracefully.\n",
    "\n",
    "i) Design a Python program that takes two command-line arguments: the input file path and the output file path. Ensure that the program checks if both arguments are provided and that the input file exists.\n",
    "\n",
    "ii) Implement error handling to deal with scenarios such as missing input files. invalid file paths, or permission issues when writing to the output file.\n",
    "\n",
    "iii) If an error occurs during file processing, display a user-friendly error message, and exit the program with a non-zero exit code.\n",
    "\n",
    "iv) Write test cases that cover various scenarios, including providing valid and invalid file paths as command-line arguments."
   ]
  },
  {
   "cell_type": "code",
   "execution_count": null,
   "id": "2aba87be",
   "metadata": {},
   "outputs": [],
   "source": [
    "import sys\n",
    "\n",
    "def process_text_file(input_file_path, output_file_path):\n",
    "    try:\n",
    "        with open(input_file_path, 'r') as input_file:\n",
    "            text = input_file.read()\n",
    "\n",
    "        processed_text = text.upper()\n",
    "\n",
    "        with open(output_file_path, 'w') as output_file:\n",
    "            output_file.write(processed_text)\n",
    "        \n",
    "        print(f\"File processed successfully. Processed content saved to {output_file_path}\")\n",
    "    except FileNotFoundError:\n",
    "        print(f\"Error: The input file '{input_file_path}' was not found.\")\n",
    "        sys.exit(1)\n",
    "    except IOError as e:\n",
    "        print(f\"Error: An I/O error occurred while processing the files - {e}\")\n",
    "        sys.exit(1)\n",
    "    except Exception as e:\n",
    "        print(f\"An unexpected error occurred - {e}\")\n",
    "        sys.exit(1)\n",
    "\n",
    "if __name__ == \"__main__\":\n",
    "    if len(sys.argv) != 3:\n",
    "        print(\"Usage: python process_files.py <input_file> <output_file>\")\n",
    "        sys.exit(1)\n",
    "\n",
    "    input_file_path = sys.argv[1]\n",
    "    output_file_path = sys.argv[2]\n",
    "\n",
    "    process_text_file(input_file_path, output_file_path)\n"
   ]
  }
 ],
 "metadata": {
  "kernelspec": {
   "display_name": "Python 3 (ipykernel)",
   "language": "python",
   "name": "python3"
  },
  "language_info": {
   "codemirror_mode": {
    "name": "ipython",
    "version": 3
   },
   "file_extension": ".py",
   "mimetype": "text/x-python",
   "name": "python",
   "nbconvert_exporter": "python",
   "pygments_lexer": "ipython3",
   "version": "3.11.4"
  }
 },
 "nbformat": 4,
 "nbformat_minor": 5
}
